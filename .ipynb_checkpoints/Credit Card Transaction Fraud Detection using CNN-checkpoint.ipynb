{
 "cells": [
  {
   "cell_type": "markdown",
   "metadata": {},
   "source": [
    "## Credit Card Fraud Detection using CNN"
   ]
  },
  {
   "cell_type": "markdown",
   "metadata": {},
   "source": [
    "Watch Full Video Here: https://youtu.be/XFnLN84Fz24"
   ]
  },
  {
   "cell_type": "code",
   "execution_count": null,
   "metadata": {},
   "outputs": [],
   "source": [
    "#!pip install tensorflow-gpu==2.0.0-rc0\n",
    "# Keep your eyes for update: https://www.tensorflow.org/"
   ]
  },
  {
   "cell_type": "code",
   "execution_count": 103,
   "metadata": {},
   "outputs": [
    {
     "name": "stdout",
     "output_type": "stream",
     "text": [
      "2.14.0\n"
     ]
    }
   ],
   "source": [
    "import tensorflow as tf\n",
    "import tempfile\n",
    "import os\n",
    "from tensorflow import keras\n",
    "from tensorflow.keras import Sequential\n",
    "from tensorflow.keras.layers import Flatten, Dense, Dropout, BatchNormalization\n",
    "from tensorflow.keras.layers import Conv1D, MaxPool1D\n",
    "from tensorflow.keras.optimizers.legacy import Adam\n",
    "print(tf.__version__)"
   ]
  },
  {
   "cell_type": "code",
   "execution_count": 72,
   "metadata": {},
   "outputs": [],
   "source": [
    "import pandas as pd\n",
    "import numpy as np\n",
    "import  seaborn as sns\n",
    "import matplotlib.pyplot as plt\n",
    "from sklearn.model_selection import train_test_split\n",
    "from sklearn.preprocessing import StandardScaler"
   ]
  },
  {
   "cell_type": "code",
   "execution_count": 73,
   "metadata": {},
   "outputs": [
    {
     "data": {
      "text/html": [
       "<div>\n",
       "<style scoped>\n",
       "    .dataframe tbody tr th:only-of-type {\n",
       "        vertical-align: middle;\n",
       "    }\n",
       "\n",
       "    .dataframe tbody tr th {\n",
       "        vertical-align: top;\n",
       "    }\n",
       "\n",
       "    .dataframe thead th {\n",
       "        text-align: right;\n",
       "    }\n",
       "</style>\n",
       "<table border=\"1\" class=\"dataframe\">\n",
       "  <thead>\n",
       "    <tr style=\"text-align: right;\">\n",
       "      <th></th>\n",
       "      <th>id</th>\n",
       "      <th>V1</th>\n",
       "      <th>V2</th>\n",
       "      <th>V3</th>\n",
       "      <th>V4</th>\n",
       "      <th>V5</th>\n",
       "      <th>V6</th>\n",
       "      <th>V7</th>\n",
       "      <th>V8</th>\n",
       "      <th>V9</th>\n",
       "      <th>...</th>\n",
       "      <th>V21</th>\n",
       "      <th>V22</th>\n",
       "      <th>V23</th>\n",
       "      <th>V24</th>\n",
       "      <th>V25</th>\n",
       "      <th>V26</th>\n",
       "      <th>V27</th>\n",
       "      <th>V28</th>\n",
       "      <th>Amount</th>\n",
       "      <th>Class</th>\n",
       "    </tr>\n",
       "  </thead>\n",
       "  <tbody>\n",
       "    <tr>\n",
       "      <th>0</th>\n",
       "      <td>0</td>\n",
       "      <td>-0.260648</td>\n",
       "      <td>-0.469648</td>\n",
       "      <td>2.496266</td>\n",
       "      <td>-0.083724</td>\n",
       "      <td>0.129681</td>\n",
       "      <td>0.732898</td>\n",
       "      <td>0.519014</td>\n",
       "      <td>-0.130006</td>\n",
       "      <td>0.727159</td>\n",
       "      <td>...</td>\n",
       "      <td>-0.110552</td>\n",
       "      <td>0.217606</td>\n",
       "      <td>-0.134794</td>\n",
       "      <td>0.165959</td>\n",
       "      <td>0.126280</td>\n",
       "      <td>-0.434824</td>\n",
       "      <td>-0.081230</td>\n",
       "      <td>-0.151045</td>\n",
       "      <td>17982.10</td>\n",
       "      <td>0</td>\n",
       "    </tr>\n",
       "    <tr>\n",
       "      <th>1</th>\n",
       "      <td>1</td>\n",
       "      <td>0.985100</td>\n",
       "      <td>-0.356045</td>\n",
       "      <td>0.558056</td>\n",
       "      <td>-0.429654</td>\n",
       "      <td>0.277140</td>\n",
       "      <td>0.428605</td>\n",
       "      <td>0.406466</td>\n",
       "      <td>-0.133118</td>\n",
       "      <td>0.347452</td>\n",
       "      <td>...</td>\n",
       "      <td>-0.194936</td>\n",
       "      <td>-0.605761</td>\n",
       "      <td>0.079469</td>\n",
       "      <td>-0.577395</td>\n",
       "      <td>0.190090</td>\n",
       "      <td>0.296503</td>\n",
       "      <td>-0.248052</td>\n",
       "      <td>-0.064512</td>\n",
       "      <td>6531.37</td>\n",
       "      <td>0</td>\n",
       "    </tr>\n",
       "    <tr>\n",
       "      <th>2</th>\n",
       "      <td>2</td>\n",
       "      <td>-0.260272</td>\n",
       "      <td>-0.949385</td>\n",
       "      <td>1.728538</td>\n",
       "      <td>-0.457986</td>\n",
       "      <td>0.074062</td>\n",
       "      <td>1.419481</td>\n",
       "      <td>0.743511</td>\n",
       "      <td>-0.095576</td>\n",
       "      <td>-0.261297</td>\n",
       "      <td>...</td>\n",
       "      <td>-0.005020</td>\n",
       "      <td>0.702906</td>\n",
       "      <td>0.945045</td>\n",
       "      <td>-1.154666</td>\n",
       "      <td>-0.605564</td>\n",
       "      <td>-0.312895</td>\n",
       "      <td>-0.300258</td>\n",
       "      <td>-0.244718</td>\n",
       "      <td>2513.54</td>\n",
       "      <td>0</td>\n",
       "    </tr>\n",
       "    <tr>\n",
       "      <th>3</th>\n",
       "      <td>3</td>\n",
       "      <td>-0.152152</td>\n",
       "      <td>-0.508959</td>\n",
       "      <td>1.746840</td>\n",
       "      <td>-1.090178</td>\n",
       "      <td>0.249486</td>\n",
       "      <td>1.143312</td>\n",
       "      <td>0.518269</td>\n",
       "      <td>-0.065130</td>\n",
       "      <td>-0.205698</td>\n",
       "      <td>...</td>\n",
       "      <td>-0.146927</td>\n",
       "      <td>-0.038212</td>\n",
       "      <td>-0.214048</td>\n",
       "      <td>-1.893131</td>\n",
       "      <td>1.003963</td>\n",
       "      <td>-0.515950</td>\n",
       "      <td>-0.165316</td>\n",
       "      <td>0.048424</td>\n",
       "      <td>5384.44</td>\n",
       "      <td>0</td>\n",
       "    </tr>\n",
       "    <tr>\n",
       "      <th>4</th>\n",
       "      <td>4</td>\n",
       "      <td>-0.206820</td>\n",
       "      <td>-0.165280</td>\n",
       "      <td>1.527053</td>\n",
       "      <td>-0.448293</td>\n",
       "      <td>0.106125</td>\n",
       "      <td>0.530549</td>\n",
       "      <td>0.658849</td>\n",
       "      <td>-0.212660</td>\n",
       "      <td>1.049921</td>\n",
       "      <td>...</td>\n",
       "      <td>-0.106984</td>\n",
       "      <td>0.729727</td>\n",
       "      <td>-0.161666</td>\n",
       "      <td>0.312561</td>\n",
       "      <td>-0.414116</td>\n",
       "      <td>1.071126</td>\n",
       "      <td>0.023712</td>\n",
       "      <td>0.419117</td>\n",
       "      <td>14278.97</td>\n",
       "      <td>0</td>\n",
       "    </tr>\n",
       "  </tbody>\n",
       "</table>\n",
       "<p>5 rows × 31 columns</p>\n",
       "</div>"
      ],
      "text/plain": [
       "   id        V1        V2        V3        V4        V5        V6        V7  \\\n",
       "0   0 -0.260648 -0.469648  2.496266 -0.083724  0.129681  0.732898  0.519014   \n",
       "1   1  0.985100 -0.356045  0.558056 -0.429654  0.277140  0.428605  0.406466   \n",
       "2   2 -0.260272 -0.949385  1.728538 -0.457986  0.074062  1.419481  0.743511   \n",
       "3   3 -0.152152 -0.508959  1.746840 -1.090178  0.249486  1.143312  0.518269   \n",
       "4   4 -0.206820 -0.165280  1.527053 -0.448293  0.106125  0.530549  0.658849   \n",
       "\n",
       "         V8        V9  ...       V21       V22       V23       V24       V25  \\\n",
       "0 -0.130006  0.727159  ... -0.110552  0.217606 -0.134794  0.165959  0.126280   \n",
       "1 -0.133118  0.347452  ... -0.194936 -0.605761  0.079469 -0.577395  0.190090   \n",
       "2 -0.095576 -0.261297  ... -0.005020  0.702906  0.945045 -1.154666 -0.605564   \n",
       "3 -0.065130 -0.205698  ... -0.146927 -0.038212 -0.214048 -1.893131  1.003963   \n",
       "4 -0.212660  1.049921  ... -0.106984  0.729727 -0.161666  0.312561 -0.414116   \n",
       "\n",
       "        V26       V27       V28    Amount  Class  \n",
       "0 -0.434824 -0.081230 -0.151045  17982.10      0  \n",
       "1  0.296503 -0.248052 -0.064512   6531.37      0  \n",
       "2 -0.312895 -0.300258 -0.244718   2513.54      0  \n",
       "3 -0.515950 -0.165316  0.048424   5384.44      0  \n",
       "4  1.071126  0.023712  0.419117  14278.97      0  \n",
       "\n",
       "[5 rows x 31 columns]"
      ]
     },
     "execution_count": 73,
     "metadata": {},
     "output_type": "execute_result"
    }
   ],
   "source": [
    "data = pd.read_csv('creditcard_2023.csv')\n",
    "data.head()"
   ]
  },
  {
   "cell_type": "code",
   "execution_count": 74,
   "metadata": {},
   "outputs": [
    {
     "data": {
      "text/plain": [
       "(568630, 31)"
      ]
     },
     "execution_count": 74,
     "metadata": {},
     "output_type": "execute_result"
    }
   ],
   "source": [
    "data.shape"
   ]
  },
  {
   "cell_type": "code",
   "execution_count": 75,
   "metadata": {},
   "outputs": [
    {
     "data": {
      "text/plain": [
       "id        0\n",
       "V1        0\n",
       "V2        0\n",
       "V3        0\n",
       "V4        0\n",
       "V5        0\n",
       "V6        0\n",
       "V7        0\n",
       "V8        0\n",
       "V9        0\n",
       "V10       0\n",
       "V11       0\n",
       "V12       0\n",
       "V13       0\n",
       "V14       0\n",
       "V15       0\n",
       "V16       0\n",
       "V17       0\n",
       "V18       0\n",
       "V19       0\n",
       "V20       0\n",
       "V21       0\n",
       "V22       0\n",
       "V23       0\n",
       "V24       0\n",
       "V25       0\n",
       "V26       0\n",
       "V27       0\n",
       "V28       0\n",
       "Amount    0\n",
       "Class     0\n",
       "dtype: int64"
      ]
     },
     "execution_count": 75,
     "metadata": {},
     "output_type": "execute_result"
    }
   ],
   "source": [
    "data.isnull().sum()"
   ]
  },
  {
   "cell_type": "code",
   "execution_count": 76,
   "metadata": {
    "scrolled": true
   },
   "outputs": [
    {
     "name": "stdout",
     "output_type": "stream",
     "text": [
      "<class 'pandas.core.frame.DataFrame'>\n",
      "RangeIndex: 568630 entries, 0 to 568629\n",
      "Data columns (total 31 columns):\n",
      " #   Column  Non-Null Count   Dtype  \n",
      "---  ------  --------------   -----  \n",
      " 0   id      568630 non-null  int64  \n",
      " 1   V1      568630 non-null  float64\n",
      " 2   V2      568630 non-null  float64\n",
      " 3   V3      568630 non-null  float64\n",
      " 4   V4      568630 non-null  float64\n",
      " 5   V5      568630 non-null  float64\n",
      " 6   V6      568630 non-null  float64\n",
      " 7   V7      568630 non-null  float64\n",
      " 8   V8      568630 non-null  float64\n",
      " 9   V9      568630 non-null  float64\n",
      " 10  V10     568630 non-null  float64\n",
      " 11  V11     568630 non-null  float64\n",
      " 12  V12     568630 non-null  float64\n",
      " 13  V13     568630 non-null  float64\n",
      " 14  V14     568630 non-null  float64\n",
      " 15  V15     568630 non-null  float64\n",
      " 16  V16     568630 non-null  float64\n",
      " 17  V17     568630 non-null  float64\n",
      " 18  V18     568630 non-null  float64\n",
      " 19  V19     568630 non-null  float64\n",
      " 20  V20     568630 non-null  float64\n",
      " 21  V21     568630 non-null  float64\n",
      " 22  V22     568630 non-null  float64\n",
      " 23  V23     568630 non-null  float64\n",
      " 24  V24     568630 non-null  float64\n",
      " 25  V25     568630 non-null  float64\n",
      " 26  V26     568630 non-null  float64\n",
      " 27  V27     568630 non-null  float64\n",
      " 28  V28     568630 non-null  float64\n",
      " 29  Amount  568630 non-null  float64\n",
      " 30  Class   568630 non-null  int64  \n",
      "dtypes: float64(29), int64(2)\n",
      "memory usage: 134.5 MB\n"
     ]
    }
   ],
   "source": [
    "data.info()"
   ]
  },
  {
   "cell_type": "code",
   "execution_count": 77,
   "metadata": {},
   "outputs": [
    {
     "data": {
      "text/plain": [
       "Class\n",
       "0    284315\n",
       "1    284315\n",
       "Name: count, dtype: int64"
      ]
     },
     "execution_count": 77,
     "metadata": {},
     "output_type": "execute_result"
    }
   ],
   "source": [
    "data['Class'].value_counts()"
   ]
  },
  {
   "cell_type": "markdown",
   "metadata": {},
   "source": [
    "### Balance Dataset "
   ]
  },
  {
   "cell_type": "code",
   "execution_count": 78,
   "metadata": {},
   "outputs": [],
   "source": [
    "non_fraud = data[data['Class']==0]\n",
    "fraud = data[data['Class']==1]"
   ]
  },
  {
   "cell_type": "code",
   "execution_count": 79,
   "metadata": {},
   "outputs": [
    {
     "data": {
      "text/plain": [
       "((284315, 31), (284315, 31))"
      ]
     },
     "execution_count": 79,
     "metadata": {},
     "output_type": "execute_result"
    }
   ],
   "source": [
    "non_fraud.shape, fraud.shape"
   ]
  },
  {
   "cell_type": "code",
   "execution_count": 80,
   "metadata": {},
   "outputs": [
    {
     "data": {
      "text/plain": [
       "(284315, 31)"
      ]
     },
     "execution_count": 80,
     "metadata": {},
     "output_type": "execute_result"
    }
   ],
   "source": [
    "non_fraud = non_fraud.sample(fraud.shape[0])\n",
    "non_fraud.shape"
   ]
  },
  {
   "cell_type": "code",
   "execution_count": 81,
   "metadata": {},
   "outputs": [
    {
     "data": {
      "text/html": [
       "<div>\n",
       "<style scoped>\n",
       "    .dataframe tbody tr th:only-of-type {\n",
       "        vertical-align: middle;\n",
       "    }\n",
       "\n",
       "    .dataframe tbody tr th {\n",
       "        vertical-align: top;\n",
       "    }\n",
       "\n",
       "    .dataframe thead th {\n",
       "        text-align: right;\n",
       "    }\n",
       "</style>\n",
       "<table border=\"1\" class=\"dataframe\">\n",
       "  <thead>\n",
       "    <tr style=\"text-align: right;\">\n",
       "      <th></th>\n",
       "      <th>id</th>\n",
       "      <th>V1</th>\n",
       "      <th>V2</th>\n",
       "      <th>V3</th>\n",
       "      <th>V4</th>\n",
       "      <th>V5</th>\n",
       "      <th>V6</th>\n",
       "      <th>V7</th>\n",
       "      <th>V8</th>\n",
       "      <th>V9</th>\n",
       "      <th>...</th>\n",
       "      <th>V21</th>\n",
       "      <th>V22</th>\n",
       "      <th>V23</th>\n",
       "      <th>V24</th>\n",
       "      <th>V25</th>\n",
       "      <th>V26</th>\n",
       "      <th>V27</th>\n",
       "      <th>V28</th>\n",
       "      <th>Amount</th>\n",
       "      <th>Class</th>\n",
       "    </tr>\n",
       "  </thead>\n",
       "  <tbody>\n",
       "    <tr>\n",
       "      <th>0</th>\n",
       "      <td>541</td>\n",
       "      <td>-0.478427</td>\n",
       "      <td>0.142165</td>\n",
       "      <td>-0.046838</td>\n",
       "      <td>0.683350</td>\n",
       "      <td>0.067820</td>\n",
       "      <td>-0.404898</td>\n",
       "      <td>-0.206496</td>\n",
       "      <td>0.184366</td>\n",
       "      <td>-0.762935</td>\n",
       "      <td>...</td>\n",
       "      <td>0.098977</td>\n",
       "      <td>-0.075191</td>\n",
       "      <td>-0.481489</td>\n",
       "      <td>0.678900</td>\n",
       "      <td>-0.011520</td>\n",
       "      <td>0.409021</td>\n",
       "      <td>0.075859</td>\n",
       "      <td>-0.447139</td>\n",
       "      <td>1534.53</td>\n",
       "      <td>1</td>\n",
       "    </tr>\n",
       "    <tr>\n",
       "      <th>1</th>\n",
       "      <td>623</td>\n",
       "      <td>-0.617111</td>\n",
       "      <td>-1.733888</td>\n",
       "      <td>1.150655</td>\n",
       "      <td>0.207829</td>\n",
       "      <td>0.903533</td>\n",
       "      <td>-0.171524</td>\n",
       "      <td>0.551679</td>\n",
       "      <td>-0.167744</td>\n",
       "      <td>0.338861</td>\n",
       "      <td>...</td>\n",
       "      <td>0.153856</td>\n",
       "      <td>0.369734</td>\n",
       "      <td>1.471004</td>\n",
       "      <td>-0.497633</td>\n",
       "      <td>0.377656</td>\n",
       "      <td>-0.328051</td>\n",
       "      <td>-0.512415</td>\n",
       "      <td>-0.013653</td>\n",
       "      <td>10554.68</td>\n",
       "      <td>1</td>\n",
       "    </tr>\n",
       "    <tr>\n",
       "      <th>2</th>\n",
       "      <td>4920</td>\n",
       "      <td>-0.476617</td>\n",
       "      <td>0.088942</td>\n",
       "      <td>0.326333</td>\n",
       "      <td>0.220370</td>\n",
       "      <td>-0.026730</td>\n",
       "      <td>0.432409</td>\n",
       "      <td>0.646165</td>\n",
       "      <td>-0.240646</td>\n",
       "      <td>0.356997</td>\n",
       "      <td>...</td>\n",
       "      <td>-0.223141</td>\n",
       "      <td>-0.851929</td>\n",
       "      <td>0.153117</td>\n",
       "      <td>-0.127032</td>\n",
       "      <td>-0.334872</td>\n",
       "      <td>-1.353308</td>\n",
       "      <td>-0.192302</td>\n",
       "      <td>-0.470796</td>\n",
       "      <td>2785.98</td>\n",
       "      <td>1</td>\n",
       "    </tr>\n",
       "    <tr>\n",
       "      <th>3</th>\n",
       "      <td>6108</td>\n",
       "      <td>-0.832953</td>\n",
       "      <td>-0.024254</td>\n",
       "      <td>-0.260967</td>\n",
       "      <td>0.323532</td>\n",
       "      <td>-0.117119</td>\n",
       "      <td>-0.589167</td>\n",
       "      <td>-0.390612</td>\n",
       "      <td>-0.207889</td>\n",
       "      <td>0.351702</td>\n",
       "      <td>...</td>\n",
       "      <td>0.120451</td>\n",
       "      <td>0.121804</td>\n",
       "      <td>-0.453630</td>\n",
       "      <td>-0.064071</td>\n",
       "      <td>0.331833</td>\n",
       "      <td>-1.671579</td>\n",
       "      <td>-1.060239</td>\n",
       "      <td>1.939783</td>\n",
       "      <td>15897.18</td>\n",
       "      <td>1</td>\n",
       "    </tr>\n",
       "    <tr>\n",
       "      <th>4</th>\n",
       "      <td>6329</td>\n",
       "      <td>1.020308</td>\n",
       "      <td>0.425645</td>\n",
       "      <td>-0.554113</td>\n",
       "      <td>0.868349</td>\n",
       "      <td>2.367343</td>\n",
       "      <td>-0.360087</td>\n",
       "      <td>1.185828</td>\n",
       "      <td>-0.261569</td>\n",
       "      <td>-0.159521</td>\n",
       "      <td>...</td>\n",
       "      <td>-0.258401</td>\n",
       "      <td>-0.661236</td>\n",
       "      <td>-0.663639</td>\n",
       "      <td>-2.536292</td>\n",
       "      <td>2.502489</td>\n",
       "      <td>1.195597</td>\n",
       "      <td>-0.249226</td>\n",
       "      <td>0.254373</td>\n",
       "      <td>3492.59</td>\n",
       "      <td>1</td>\n",
       "    </tr>\n",
       "    <tr>\n",
       "      <th>...</th>\n",
       "      <td>...</td>\n",
       "      <td>...</td>\n",
       "      <td>...</td>\n",
       "      <td>...</td>\n",
       "      <td>...</td>\n",
       "      <td>...</td>\n",
       "      <td>...</td>\n",
       "      <td>...</td>\n",
       "      <td>...</td>\n",
       "      <td>...</td>\n",
       "      <td>...</td>\n",
       "      <td>...</td>\n",
       "      <td>...</td>\n",
       "      <td>...</td>\n",
       "      <td>...</td>\n",
       "      <td>...</td>\n",
       "      <td>...</td>\n",
       "      <td>...</td>\n",
       "      <td>...</td>\n",
       "      <td>...</td>\n",
       "      <td>...</td>\n",
       "    </tr>\n",
       "    <tr>\n",
       "      <th>568625</th>\n",
       "      <td>74111</td>\n",
       "      <td>0.011479</td>\n",
       "      <td>-0.121866</td>\n",
       "      <td>1.640215</td>\n",
       "      <td>-0.676006</td>\n",
       "      <td>0.214436</td>\n",
       "      <td>0.067762</td>\n",
       "      <td>0.669552</td>\n",
       "      <td>-0.139269</td>\n",
       "      <td>0.117847</td>\n",
       "      <td>...</td>\n",
       "      <td>-0.168873</td>\n",
       "      <td>-0.427471</td>\n",
       "      <td>-0.038792</td>\n",
       "      <td>1.110742</td>\n",
       "      <td>-0.478481</td>\n",
       "      <td>0.107105</td>\n",
       "      <td>0.078702</td>\n",
       "      <td>0.172910</td>\n",
       "      <td>15822.61</td>\n",
       "      <td>0</td>\n",
       "    </tr>\n",
       "    <tr>\n",
       "      <th>568626</th>\n",
       "      <td>133642</td>\n",
       "      <td>-0.123888</td>\n",
       "      <td>-0.101317</td>\n",
       "      <td>1.736492</td>\n",
       "      <td>-0.782829</td>\n",
       "      <td>0.374890</td>\n",
       "      <td>0.082666</td>\n",
       "      <td>0.701530</td>\n",
       "      <td>-0.150227</td>\n",
       "      <td>0.037156</td>\n",
       "      <td>...</td>\n",
       "      <td>-0.172938</td>\n",
       "      <td>-0.628132</td>\n",
       "      <td>-0.238416</td>\n",
       "      <td>0.601813</td>\n",
       "      <td>0.109182</td>\n",
       "      <td>0.116174</td>\n",
       "      <td>-0.372651</td>\n",
       "      <td>0.038317</td>\n",
       "      <td>14324.05</td>\n",
       "      <td>0</td>\n",
       "    </tr>\n",
       "    <tr>\n",
       "      <th>568627</th>\n",
       "      <td>264577</td>\n",
       "      <td>0.065142</td>\n",
       "      <td>-0.628402</td>\n",
       "      <td>0.722009</td>\n",
       "      <td>-1.638744</td>\n",
       "      <td>0.199523</td>\n",
       "      <td>0.580875</td>\n",
       "      <td>0.903976</td>\n",
       "      <td>-0.197607</td>\n",
       "      <td>0.009288</td>\n",
       "      <td>...</td>\n",
       "      <td>-0.090861</td>\n",
       "      <td>0.395426</td>\n",
       "      <td>0.345490</td>\n",
       "      <td>1.407427</td>\n",
       "      <td>-1.065853</td>\n",
       "      <td>-1.293566</td>\n",
       "      <td>-0.233145</td>\n",
       "      <td>-0.073020</td>\n",
       "      <td>13763.58</td>\n",
       "      <td>0</td>\n",
       "    </tr>\n",
       "    <tr>\n",
       "      <th>568628</th>\n",
       "      <td>97057</td>\n",
       "      <td>-0.903423</td>\n",
       "      <td>0.665029</td>\n",
       "      <td>-0.098390</td>\n",
       "      <td>-1.430379</td>\n",
       "      <td>-0.615764</td>\n",
       "      <td>-0.415131</td>\n",
       "      <td>-0.197718</td>\n",
       "      <td>0.784833</td>\n",
       "      <td>0.399684</td>\n",
       "      <td>...</td>\n",
       "      <td>-0.062237</td>\n",
       "      <td>-0.359825</td>\n",
       "      <td>0.459760</td>\n",
       "      <td>1.083059</td>\n",
       "      <td>0.111209</td>\n",
       "      <td>1.526342</td>\n",
       "      <td>-0.257109</td>\n",
       "      <td>0.104688</td>\n",
       "      <td>9777.39</td>\n",
       "      <td>0</td>\n",
       "    </tr>\n",
       "    <tr>\n",
       "      <th>568629</th>\n",
       "      <td>241014</td>\n",
       "      <td>1.801041</td>\n",
       "      <td>-0.482046</td>\n",
       "      <td>0.092857</td>\n",
       "      <td>-0.438750</td>\n",
       "      <td>0.170209</td>\n",
       "      <td>-0.283598</td>\n",
       "      <td>0.477332</td>\n",
       "      <td>-0.216295</td>\n",
       "      <td>0.940925</td>\n",
       "      <td>...</td>\n",
       "      <td>-0.225136</td>\n",
       "      <td>-0.713677</td>\n",
       "      <td>0.340994</td>\n",
       "      <td>0.081015</td>\n",
       "      <td>-0.606059</td>\n",
       "      <td>0.452838</td>\n",
       "      <td>-0.323300</td>\n",
       "      <td>-0.249743</td>\n",
       "      <td>3368.60</td>\n",
       "      <td>0</td>\n",
       "    </tr>\n",
       "  </tbody>\n",
       "</table>\n",
       "<p>568630 rows × 31 columns</p>\n",
       "</div>"
      ],
      "text/plain": [
       "            id        V1        V2        V3        V4        V5        V6  \\\n",
       "0          541 -0.478427  0.142165 -0.046838  0.683350  0.067820 -0.404898   \n",
       "1          623 -0.617111 -1.733888  1.150655  0.207829  0.903533 -0.171524   \n",
       "2         4920 -0.476617  0.088942  0.326333  0.220370 -0.026730  0.432409   \n",
       "3         6108 -0.832953 -0.024254 -0.260967  0.323532 -0.117119 -0.589167   \n",
       "4         6329  1.020308  0.425645 -0.554113  0.868349  2.367343 -0.360087   \n",
       "...        ...       ...       ...       ...       ...       ...       ...   \n",
       "568625   74111  0.011479 -0.121866  1.640215 -0.676006  0.214436  0.067762   \n",
       "568626  133642 -0.123888 -0.101317  1.736492 -0.782829  0.374890  0.082666   \n",
       "568627  264577  0.065142 -0.628402  0.722009 -1.638744  0.199523  0.580875   \n",
       "568628   97057 -0.903423  0.665029 -0.098390 -1.430379 -0.615764 -0.415131   \n",
       "568629  241014  1.801041 -0.482046  0.092857 -0.438750  0.170209 -0.283598   \n",
       "\n",
       "              V7        V8        V9  ...       V21       V22       V23  \\\n",
       "0      -0.206496  0.184366 -0.762935  ...  0.098977 -0.075191 -0.481489   \n",
       "1       0.551679 -0.167744  0.338861  ...  0.153856  0.369734  1.471004   \n",
       "2       0.646165 -0.240646  0.356997  ... -0.223141 -0.851929  0.153117   \n",
       "3      -0.390612 -0.207889  0.351702  ...  0.120451  0.121804 -0.453630   \n",
       "4       1.185828 -0.261569 -0.159521  ... -0.258401 -0.661236 -0.663639   \n",
       "...          ...       ...       ...  ...       ...       ...       ...   \n",
       "568625  0.669552 -0.139269  0.117847  ... -0.168873 -0.427471 -0.038792   \n",
       "568626  0.701530 -0.150227  0.037156  ... -0.172938 -0.628132 -0.238416   \n",
       "568627  0.903976 -0.197607  0.009288  ... -0.090861  0.395426  0.345490   \n",
       "568628 -0.197718  0.784833  0.399684  ... -0.062237 -0.359825  0.459760   \n",
       "568629  0.477332 -0.216295  0.940925  ... -0.225136 -0.713677  0.340994   \n",
       "\n",
       "             V24       V25       V26       V27       V28    Amount  Class  \n",
       "0       0.678900 -0.011520  0.409021  0.075859 -0.447139   1534.53      1  \n",
       "1      -0.497633  0.377656 -0.328051 -0.512415 -0.013653  10554.68      1  \n",
       "2      -0.127032 -0.334872 -1.353308 -0.192302 -0.470796   2785.98      1  \n",
       "3      -0.064071  0.331833 -1.671579 -1.060239  1.939783  15897.18      1  \n",
       "4      -2.536292  2.502489  1.195597 -0.249226  0.254373   3492.59      1  \n",
       "...          ...       ...       ...       ...       ...       ...    ...  \n",
       "568625  1.110742 -0.478481  0.107105  0.078702  0.172910  15822.61      0  \n",
       "568626  0.601813  0.109182  0.116174 -0.372651  0.038317  14324.05      0  \n",
       "568627  1.407427 -1.065853 -1.293566 -0.233145 -0.073020  13763.58      0  \n",
       "568628  1.083059  0.111209  1.526342 -0.257109  0.104688   9777.39      0  \n",
       "568629  0.081015 -0.606059  0.452838 -0.323300 -0.249743   3368.60      0  \n",
       "\n",
       "[568630 rows x 31 columns]"
      ]
     },
     "execution_count": 81,
     "metadata": {},
     "output_type": "execute_result"
    }
   ],
   "source": [
    "data= pd.concat([fraud, non_fraud], ignore_index=True)\n",
    "data"
   ]
  },
  {
   "cell_type": "code",
   "execution_count": 82,
   "metadata": {},
   "outputs": [
    {
     "data": {
      "text/plain": [
       "Class\n",
       "1    284315\n",
       "0    284315\n",
       "Name: count, dtype: int64"
      ]
     },
     "execution_count": 82,
     "metadata": {},
     "output_type": "execute_result"
    }
   ],
   "source": [
    "data['Class'].value_counts()"
   ]
  },
  {
   "cell_type": "code",
   "execution_count": 83,
   "metadata": {},
   "outputs": [],
   "source": [
    "X = data.drop('Class', axis = 1)\n",
    "y = data['Class']"
   ]
  },
  {
   "cell_type": "code",
   "execution_count": 84,
   "metadata": {},
   "outputs": [],
   "source": [
    "X_train, X_test, y_train, y_test = train_test_split(X, y, test_size = 0.2, random_state = 0, stratify = y)"
   ]
  },
  {
   "cell_type": "code",
   "execution_count": 85,
   "metadata": {},
   "outputs": [
    {
     "data": {
      "text/plain": [
       "((454904, 30), (113726, 30))"
      ]
     },
     "execution_count": 85,
     "metadata": {},
     "output_type": "execute_result"
    }
   ],
   "source": [
    "X_train.shape, X_test.shape"
   ]
  },
  {
   "cell_type": "code",
   "execution_count": 86,
   "metadata": {},
   "outputs": [],
   "source": [
    "scaler = StandardScaler()\n",
    "X_train = scaler.fit_transform(X_train)\n",
    "X_test = scaler.transform(X_test)"
   ]
  },
  {
   "cell_type": "code",
   "execution_count": 87,
   "metadata": {},
   "outputs": [],
   "source": [
    "y_train = y_train.to_numpy()\n",
    "y_test = y_test.to_numpy()"
   ]
  },
  {
   "cell_type": "code",
   "execution_count": 88,
   "metadata": {},
   "outputs": [
    {
     "data": {
      "text/plain": [
       "(454904, 30)"
      ]
     },
     "execution_count": 88,
     "metadata": {},
     "output_type": "execute_result"
    }
   ],
   "source": [
    "X_train.shape"
   ]
  },
  {
   "cell_type": "code",
   "execution_count": 89,
   "metadata": {},
   "outputs": [],
   "source": [
    "X_train = X_train.reshape(X_train.shape[0], X_train.shape[1], 1)\n",
    "X_test = X_test.reshape(X_test.shape[0], X_test.shape[1], 1)"
   ]
  },
  {
   "cell_type": "code",
   "execution_count": 90,
   "metadata": {},
   "outputs": [
    {
     "data": {
      "text/plain": [
       "array([[-1.71346839e+00],\n",
       "       [-1.88511233e-01],\n",
       "       [ 2.13550348e-01],\n",
       "       [ 8.06814487e-02],\n",
       "       [-3.49335386e-01],\n",
       "       [ 2.65213267e-01],\n",
       "       [-1.01773270e-02],\n",
       "       [ 5.54061646e-01],\n",
       "       [ 1.05573765e-03],\n",
       "       [ 3.27960358e-01],\n",
       "       [ 9.22779165e-01],\n",
       "       [-1.76731036e+00],\n",
       "       [ 7.74997954e-01],\n",
       "       [ 6.90559390e-01],\n",
       "       [ 1.23276392e+00],\n",
       "       [ 7.26421804e-01],\n",
       "       [ 3.78024611e-01],\n",
       "       [ 3.88801974e-01],\n",
       "       [ 4.07991963e-01],\n",
       "       [ 2.80155159e-01],\n",
       "       [ 1.02684059e-01],\n",
       "       [-7.11795109e-02],\n",
       "       [ 3.32202477e-01],\n",
       "       [ 2.25750843e-02],\n",
       "       [-7.52732375e-01],\n",
       "       [-6.96593747e-01],\n",
       "       [-8.29856600e-01],\n",
       "       [ 4.00255621e-01],\n",
       "       [ 5.65439884e-01],\n",
       "       [ 3.49593556e-01]])"
      ]
     },
     "metadata": {},
     "output_type": "display_data"
    }
   ],
   "source": [
    "X_train.shape, X_test.shape\n",
    "display(X_train[0])"
   ]
  },
  {
   "cell_type": "markdown",
   "metadata": {},
   "source": [
    "### Build CNN "
   ]
  },
  {
   "cell_type": "code",
   "execution_count": 91,
   "metadata": {},
   "outputs": [],
   "source": [
    "epochs = 20\n",
    "model = Sequential()\n",
    "model.add(Conv1D(32, 2, activation='relu', input_shape = X_train[0].shape))\n",
    "model.add(BatchNormalization())\n",
    "model.add(Dropout(0.2))\n",
    "\n",
    "model.add(Conv1D(64, 2, activation='relu'))\n",
    "model.add(BatchNormalization())\n",
    "model.add(Dropout(0.5))\n",
    "\n",
    "model.add(Flatten())\n",
    "model.add(Dense(64, activation='relu'))\n",
    "model.add(Dropout(0.5))\n",
    "\n",
    "model.add(Dense(1, activation='sigmoid'))\n"
   ]
  },
  {
   "cell_type": "code",
   "execution_count": 92,
   "metadata": {},
   "outputs": [
    {
     "name": "stdout",
     "output_type": "stream",
     "text": [
      "Model: \"sequential_3\"\n",
      "_________________________________________________________________\n",
      " Layer (type)                Output Shape              Param #   \n",
      "=================================================================\n",
      " conv1d_6 (Conv1D)           (None, 29, 32)            96        \n",
      "                                                                 \n",
      " batch_normalization_6 (Bat  (None, 29, 32)            128       \n",
      " chNormalization)                                                \n",
      "                                                                 \n",
      " dropout_9 (Dropout)         (None, 29, 32)            0         \n",
      "                                                                 \n",
      " conv1d_7 (Conv1D)           (None, 28, 64)            4160      \n",
      "                                                                 \n",
      " batch_normalization_7 (Bat  (None, 28, 64)            256       \n",
      " chNormalization)                                                \n",
      "                                                                 \n",
      " dropout_10 (Dropout)        (None, 28, 64)            0         \n",
      "                                                                 \n",
      " flatten_3 (Flatten)         (None, 1792)              0         \n",
      "                                                                 \n",
      " dense_6 (Dense)             (None, 64)                114752    \n",
      "                                                                 \n",
      " dropout_11 (Dropout)        (None, 64)                0         \n",
      "                                                                 \n",
      " dense_7 (Dense)             (None, 1)                 65        \n",
      "                                                                 \n",
      "=================================================================\n",
      "Total params: 119457 (466.63 KB)\n",
      "Trainable params: 119265 (465.88 KB)\n",
      "Non-trainable params: 192 (768.00 Byte)\n",
      "_________________________________________________________________\n"
     ]
    }
   ],
   "source": [
    "model.summary()"
   ]
  },
  {
   "cell_type": "code",
   "execution_count": 96,
   "metadata": {},
   "outputs": [],
   "source": [
    "model.compile(optimizer=Adam(learning_rate=0.0001), loss = 'binary_crossentropy', metrics=['accuracy'])"
   ]
  },
  {
   "cell_type": "code",
   "execution_count": 97,
   "metadata": {},
   "outputs": [
    {
     "name": "stdout",
     "output_type": "stream",
     "text": [
      "Epoch 1/20\n",
      "14216/14216 [==============================] - 41s 3ms/step - loss: 0.0282 - accuracy: 0.9908 - val_loss: 0.0038 - val_accuracy: 0.9992\n",
      "Epoch 2/20\n",
      "14216/14216 [==============================] - 42s 3ms/step - loss: 0.0065 - accuracy: 0.9982 - val_loss: 0.0031 - val_accuracy: 0.9994\n",
      "Epoch 3/20\n",
      "14216/14216 [==============================] - 42s 3ms/step - loss: 0.0050 - accuracy: 0.9987 - val_loss: 0.0024 - val_accuracy: 0.9995\n",
      "Epoch 4/20\n",
      "14216/14216 [==============================] - 42s 3ms/step - loss: 0.0044 - accuracy: 0.9989 - val_loss: 0.0022 - val_accuracy: 0.9995\n",
      "Epoch 5/20\n",
      "14216/14216 [==============================] - 43s 3ms/step - loss: 0.0038 - accuracy: 0.9990 - val_loss: 0.0023 - val_accuracy: 0.9995\n",
      "Epoch 6/20\n",
      "14216/14216 [==============================] - 43s 3ms/step - loss: 0.0033 - accuracy: 0.9991 - val_loss: 0.0021 - val_accuracy: 0.9996\n",
      "Epoch 7/20\n",
      "14216/14216 [==============================] - 43s 3ms/step - loss: 0.0035 - accuracy: 0.9992 - val_loss: 0.0024 - val_accuracy: 0.9996\n",
      "Epoch 8/20\n",
      "14216/14216 [==============================] - 42s 3ms/step - loss: 0.0030 - accuracy: 0.9993 - val_loss: 0.0020 - val_accuracy: 0.9996\n",
      "Epoch 9/20\n",
      "14216/14216 [==============================] - 42s 3ms/step - loss: 0.0029 - accuracy: 0.9993 - val_loss: 0.0022 - val_accuracy: 0.9996\n",
      "Epoch 10/20\n",
      "14216/14216 [==============================] - 44s 3ms/step - loss: 0.0028 - accuracy: 0.9993 - val_loss: 0.0020 - val_accuracy: 0.9996\n",
      "Epoch 11/20\n",
      "14216/14216 [==============================] - 44s 3ms/step - loss: 0.0027 - accuracy: 0.9994 - val_loss: 0.0018 - val_accuracy: 0.9996\n",
      "Epoch 12/20\n",
      "14216/14216 [==============================] - 43s 3ms/step - loss: 0.0027 - accuracy: 0.9994 - val_loss: 0.0019 - val_accuracy: 0.9996\n",
      "Epoch 13/20\n",
      "14216/14216 [==============================] - 44s 3ms/step - loss: 0.0024 - accuracy: 0.9995 - val_loss: 0.0020 - val_accuracy: 0.9996\n",
      "Epoch 14/20\n",
      "14216/14216 [==============================] - 43s 3ms/step - loss: 0.0025 - accuracy: 0.9994 - val_loss: 0.0017 - val_accuracy: 0.9996\n",
      "Epoch 15/20\n",
      "14216/14216 [==============================] - 43s 3ms/step - loss: 0.0026 - accuracy: 0.9994 - val_loss: 0.0018 - val_accuracy: 0.9997\n",
      "Epoch 16/20\n",
      "14216/14216 [==============================] - 43s 3ms/step - loss: 0.0025 - accuracy: 0.9995 - val_loss: 0.0019 - val_accuracy: 0.9997\n",
      "Epoch 17/20\n",
      "14216/14216 [==============================] - 43s 3ms/step - loss: 0.0024 - accuracy: 0.9995 - val_loss: 0.0019 - val_accuracy: 0.9996\n",
      "Epoch 18/20\n",
      "14216/14216 [==============================] - 43s 3ms/step - loss: 0.0025 - accuracy: 0.9994 - val_loss: 0.0018 - val_accuracy: 0.9997\n",
      "Epoch 19/20\n",
      "14216/14216 [==============================] - 43s 3ms/step - loss: 0.0022 - accuracy: 0.9995 - val_loss: 0.0017 - val_accuracy: 0.9997\n",
      "Epoch 20/20\n",
      "14216/14216 [==============================] - 44s 3ms/step - loss: 0.0023 - accuracy: 0.9995 - val_loss: 0.0019 - val_accuracy: 0.9996\n"
     ]
    }
   ],
   "source": [
    "history = model.fit(X_train, y_train, epochs=epochs, validation_data=(X_test, y_test), verbose=1)"
   ]
  },
  {
   "cell_type": "code",
   "execution_count": 98,
   "metadata": {},
   "outputs": [],
   "source": [
    "def plot_learningCurve(history, epoch):\n",
    "  # Plot training & validation accuracy values\n",
    "  epoch_range = range(1, epoch+1)\n",
    "  plt.plot(epoch_range, history.history['accuracy'])\n",
    "  plt.plot(epoch_range, history.history['val_accuracy'])\n",
    "  plt.title('Model accuracy')\n",
    "  plt.ylabel('Accuracy')\n",
    "  plt.xlabel('Epoch')\n",
    "  plt.legend(['Train', 'Val'], loc='upper left')\n",
    "  plt.show()\n",
    "\n",
    "  # Plot training & validation loss values\n",
    "  plt.plot(epoch_range, history.history['loss'])\n",
    "  plt.plot(epoch_range, history.history['val_loss'])\n",
    "  plt.title('Model loss')\n",
    "  plt.ylabel('Loss')\n",
    "  plt.xlabel('Epoch')\n",
    "  plt.legend(['Train', 'Val'], loc='upper left')\n",
    "  plt.show()"
   ]
  },
  {
   "cell_type": "code",
   "execution_count": 99,
   "metadata": {},
   "outputs": [
    {
     "data": {
      "image/png": "[encoded data removed]",
      "text/plain": [
       "<Figure size 640x480 with 1 Axes>"
      ]
     },
     "metadata": {},
     "output_type": "display_data"
    },
    {
     "data": {
      "image/png": "[encoded data removed]",
      "text/plain": [
       "<Figure size 640x480 with 1 Axes>"
      ]
     },
     "metadata": {},
     "output_type": "display_data"
    }
   ],
   "source": [
    "plot_learningCurve(history, epochs)"
   ]
  },
  {
   "cell_type": "code",
   "execution_count": null,
   "metadata": {},
   "outputs": [],
   "source": []
  },
  {
   "cell_type": "markdown",
   "metadata": {},
   "source": [
    "### Adding MaxPool "
   ]
  },
  {
   "cell_type": "code",
   "execution_count": 100,
   "metadata": {
    "scrolled": false
   },
   "outputs": [
    {
     "name": "stdout",
     "output_type": "stream",
     "text": [
      "Epoch 1/50\n",
      "14216/14216 [==============================] - 34s 2ms/step - loss: 0.0938 - accuracy: 0.9671 - val_loss: 0.0116 - val_accuracy: 0.9970\n",
      "Epoch 2/50\n",
      "14216/14216 [==============================] - 33s 2ms/step - loss: 0.0248 - accuracy: 0.9923 - val_loss: 0.0074 - val_accuracy: 0.9983\n",
      "Epoch 3/50\n",
      "14216/14216 [==============================] - 33s 2ms/step - loss: 0.0184 - accuracy: 0.9945 - val_loss: 0.0067 - val_accuracy: 0.9984\n",
      "Epoch 4/50\n",
      "14216/14216 [==============================] - 34s 2ms/step - loss: 0.0156 - accuracy: 0.9955 - val_loss: 0.0055 - val_accuracy: 0.9988\n",
      "Epoch 5/50\n",
      "14216/14216 [==============================] - 34s 2ms/step - loss: 0.0139 - accuracy: 0.9960 - val_loss: 0.0050 - val_accuracy: 0.9990\n",
      "Epoch 6/50\n",
      "14216/14216 [==============================] - 32s 2ms/step - loss: 0.0121 - accuracy: 0.9965 - val_loss: 0.0044 - val_accuracy: 0.9991\n",
      "Epoch 7/50\n",
      "14216/14216 [==============================] - 35s 2ms/step - loss: 0.0117 - accuracy: 0.9967 - val_loss: 0.0043 - val_accuracy: 0.9990\n",
      "Epoch 8/50\n",
      "14216/14216 [==============================] - 34s 2ms/step - loss: 0.0111 - accuracy: 0.9969 - val_loss: 0.0044 - val_accuracy: 0.9990\n",
      "Epoch 9/50\n",
      "14216/14216 [==============================] - 34s 2ms/step - loss: 0.0104 - accuracy: 0.9971 - val_loss: 0.0035 - val_accuracy: 0.9993\n",
      "Epoch 10/50\n",
      "14216/14216 [==============================] - 34s 2ms/step - loss: 0.0101 - accuracy: 0.9973 - val_loss: 0.0037 - val_accuracy: 0.9993\n",
      "Epoch 11/50\n",
      "14216/14216 [==============================] - 33s 2ms/step - loss: 0.0101 - accuracy: 0.9973 - val_loss: 0.0035 - val_accuracy: 0.9993\n",
      "Epoch 12/50\n",
      "14216/14216 [==============================] - 34s 2ms/step - loss: 0.0094 - accuracy: 0.9975 - val_loss: 0.0034 - val_accuracy: 0.9994\n",
      "Epoch 13/50\n",
      "14216/14216 [==============================] - 34s 2ms/step - loss: 0.0090 - accuracy: 0.9976 - val_loss: 0.0034 - val_accuracy: 0.9994\n",
      "Epoch 14/50\n",
      "14216/14216 [==============================] - 32s 2ms/step - loss: 0.0088 - accuracy: 0.9976 - val_loss: 0.0033 - val_accuracy: 0.9994\n",
      "Epoch 15/50\n",
      "14216/14216 [==============================] - 33s 2ms/step - loss: 0.0084 - accuracy: 0.9977 - val_loss: 0.0029 - val_accuracy: 0.9994\n",
      "Epoch 16/50\n",
      "14216/14216 [==============================] - 33s 2ms/step - loss: 0.0084 - accuracy: 0.9978 - val_loss: 0.0031 - val_accuracy: 0.9994\n",
      "Epoch 17/50\n",
      "14216/14216 [==============================] - 34s 2ms/step - loss: 0.0080 - accuracy: 0.9978 - val_loss: 0.0032 - val_accuracy: 0.9994\n",
      "Epoch 18/50\n",
      "14216/14216 [==============================] - 33s 2ms/step - loss: 0.0081 - accuracy: 0.9978 - val_loss: 0.0031 - val_accuracy: 0.9994\n",
      "Epoch 19/50\n",
      "14216/14216 [==============================] - 34s 2ms/step - loss: 0.0079 - accuracy: 0.9979 - val_loss: 0.0028 - val_accuracy: 0.9994\n",
      "Epoch 20/50\n",
      "14216/14216 [==============================] - 34s 2ms/step - loss: 0.0077 - accuracy: 0.9979 - val_loss: 0.0032 - val_accuracy: 0.9994\n",
      "Epoch 21/50\n",
      "14216/14216 [==============================] - 34s 2ms/step - loss: 0.0081 - accuracy: 0.9978 - val_loss: 0.0029 - val_accuracy: 0.9994\n",
      "Epoch 22/50\n",
      "14216/14216 [==============================] - 34s 2ms/step - loss: 0.0072 - accuracy: 0.9980 - val_loss: 0.0029 - val_accuracy: 0.9994\n",
      "Epoch 23/50\n",
      "14216/14216 [==============================] - 34s 2ms/step - loss: 0.0075 - accuracy: 0.9980 - val_loss: 0.0028 - val_accuracy: 0.9995\n",
      "Epoch 24/50\n",
      "14216/14216 [==============================] - 34s 2ms/step - loss: 0.0070 - accuracy: 0.9981 - val_loss: 0.0028 - val_accuracy: 0.9995\n",
      "Epoch 25/50\n",
      "14216/14216 [==============================] - 34s 2ms/step - loss: 0.0075 - accuracy: 0.9980 - val_loss: 0.0027 - val_accuracy: 0.9995\n",
      "Epoch 26/50\n",
      "14216/14216 [==============================] - 34s 2ms/step - loss: 0.0072 - accuracy: 0.9981 - val_loss: 0.0027 - val_accuracy: 0.9995\n",
      "Epoch 27/50\n",
      "14216/14216 [==============================] - 34s 2ms/step - loss: 0.0068 - accuracy: 0.9982 - val_loss: 0.0027 - val_accuracy: 0.9995\n",
      "Epoch 28/50\n",
      "14216/14216 [==============================] - 34s 2ms/step - loss: 0.0069 - accuracy: 0.9982 - val_loss: 0.0028 - val_accuracy: 0.9995\n",
      "Epoch 29/50\n",
      "14216/14216 [==============================] - 35s 2ms/step - loss: 0.0071 - accuracy: 0.9982 - val_loss: 0.0026 - val_accuracy: 0.9995\n",
      "Epoch 30/50\n",
      "14216/14216 [==============================] - 35s 2ms/step - loss: 0.0069 - accuracy: 0.9982 - val_loss: 0.0026 - val_accuracy: 0.9996\n",
      "Epoch 31/50\n",
      "14216/14216 [==============================] - 34s 2ms/step - loss: 0.0070 - accuracy: 0.9982 - val_loss: 0.0026 - val_accuracy: 0.9995\n",
      "Epoch 32/50\n",
      "14216/14216 [==============================] - 33s 2ms/step - loss: 0.0067 - accuracy: 0.9982 - val_loss: 0.0025 - val_accuracy: 0.9995\n",
      "Epoch 33/50\n",
      "14216/14216 [==============================] - 34s 2ms/step - loss: 0.0068 - accuracy: 0.9982 - val_loss: 0.0025 - val_accuracy: 0.9996\n",
      "Epoch 34/50\n",
      "14216/14216 [==============================] - 34s 2ms/step - loss: 0.0064 - accuracy: 0.9983 - val_loss: 0.0028 - val_accuracy: 0.9995\n",
      "Epoch 35/50\n",
      "14216/14216 [==============================] - 34s 2ms/step - loss: 0.0065 - accuracy: 0.9983 - val_loss: 0.0028 - val_accuracy: 0.9996\n",
      "Epoch 36/50\n",
      "14216/14216 [==============================] - 34s 2ms/step - loss: 0.0065 - accuracy: 0.9983 - val_loss: 0.0025 - val_accuracy: 0.9996\n",
      "Epoch 37/50\n",
      "14216/14216 [==============================] - 33s 2ms/step - loss: 0.0065 - accuracy: 0.9983 - val_loss: 0.0025 - val_accuracy: 0.9995\n",
      "Epoch 38/50\n",
      "14216/14216 [==============================] - 34s 2ms/step - loss: 0.0068 - accuracy: 0.9982 - val_loss: 0.0025 - val_accuracy: 0.9996\n",
      "Epoch 39/50\n",
      "14216/14216 [==============================] - 34s 2ms/step - loss: 0.0068 - accuracy: 0.9982 - val_loss: 0.0025 - val_accuracy: 0.9996\n",
      "Epoch 40/50\n",
      "14216/14216 [==============================] - 33s 2ms/step - loss: 0.0061 - accuracy: 0.9983 - val_loss: 0.0028 - val_accuracy: 0.9995\n",
      "Epoch 41/50\n",
      "14216/14216 [==============================] - 33s 2ms/step - loss: 0.0064 - accuracy: 0.9983 - val_loss: 0.0025 - val_accuracy: 0.9996\n",
      "Epoch 42/50\n",
      "14216/14216 [==============================] - 33s 2ms/step - loss: 0.0065 - accuracy: 0.9983 - val_loss: 0.0025 - val_accuracy: 0.9996\n",
      "Epoch 43/50\n",
      "14216/14216 [==============================] - 33s 2ms/step - loss: 0.0064 - accuracy: 0.9984 - val_loss: 0.0027 - val_accuracy: 0.9994\n",
      "Epoch 44/50\n",
      "14216/14216 [==============================] - 35s 2ms/step - loss: 0.0064 - accuracy: 0.9984 - val_loss: 0.0025 - val_accuracy: 0.9996\n",
      "Epoch 45/50\n",
      "14216/14216 [==============================] - 35s 2ms/step - loss: 0.0060 - accuracy: 0.9983 - val_loss: 0.0026 - val_accuracy: 0.9995\n",
      "Epoch 46/50\n",
      "14216/14216 [==============================] - 34s 2ms/step - loss: 0.0063 - accuracy: 0.9983 - val_loss: 0.0024 - val_accuracy: 0.9996\n",
      "Epoch 47/50\n",
      "14216/14216 [==============================] - 34s 2ms/step - loss: 0.0063 - accuracy: 0.9984 - val_loss: 0.0024 - val_accuracy: 0.9996\n",
      "Epoch 48/50\n",
      "14216/14216 [==============================] - 34s 2ms/step - loss: 0.0063 - accuracy: 0.9984 - val_loss: 0.0025 - val_accuracy: 0.9995\n",
      "Epoch 49/50\n",
      "14216/14216 [==============================] - 34s 2ms/step - loss: 0.0059 - accuracy: 0.9985 - val_loss: 0.0026 - val_accuracy: 0.9995\n",
      "Epoch 50/50\n",
      "14216/14216 [==============================] - 33s 2ms/step - loss: 0.0063 - accuracy: 0.9984 - val_loss: 0.0025 - val_accuracy: 0.9995\n"
     ]
    },
    {
     "data": {
      "image/png": "[encoded data removed]",
      "text/plain": [
       "<Figure size 640x480 with 1 Axes>"
      ]
     },
     "metadata": {},
     "output_type": "display_data"
    },
    {
     "data": {
      "image/png": "[encoded data removed]",
      "text/plain": [
       "<Figure size 640x480 with 1 Axes>"
      ]
     },
     "metadata": {},
     "output_type": "display_data"
    }
   ],
   "source": [
    "epochs = 50\n",
    "model = Sequential()\n",
    "model.add(Conv1D(32, 2, activation='relu', input_shape = X_train[0].shape))\n",
    "model.add(BatchNormalization())\n",
    "model.add(MaxPool1D(2))\n",
    "model.add(Dropout(0.2))\n",
    "\n",
    "model.add(Conv1D(64, 2, activation='relu'))\n",
    "model.add(BatchNormalization())\n",
    "model.add(MaxPool1D(2))\n",
    "model.add(Dropout(0.5))\n",
    "\n",
    "model.add(Flatten())\n",
    "model.add(Dense(64, activation='relu'))\n",
    "model.add(Dropout(0.5))\n",
    "\n",
    "model.add(Dense(1, activation='sigmoid'))\n",
    "\n",
    "model.compile(optimizer=Adam(lr=0.0001), loss = 'binary_crossentropy', metrics=['accuracy'])\n",
    "history = model.fit(X_train, y_train, epochs=epochs, validation_data=(X_test, y_test), verbose=1)\n",
    "plot_learningCurve(history, epochs)"
   ]
  },
  {
   "cell_type": "code",
   "execution_count": 101,
   "metadata": {},
   "outputs": [],
   "source": [
    "MODEL_DIR= tempfile.gettempdir()"
   ]
  },
  {
   "cell_type": "code",
   "execution_count": 104,
   "metadata": {},
   "outputs": [
    {
     "name": "stdout",
     "output_type": "stream",
     "text": [
      "export_path = /var/folders/ry/q793pzpj7j34b39xk_gqz14h0000gn/T/1\n",
      "\n"
     ]
    }
   ],
   "source": [
    "version = 1\n",
    "export_path = os.path.join(MODEL_DIR, str(version))\n",
    "print('export_path = {}\\n'.format(export_path))"
   ]
  },
  {
   "cell_type": "code",
   "execution_count": 105,
   "metadata": {},
   "outputs": [
    {
     "name": "stdout",
     "output_type": "stream",
     "text": [
      "INFO:tensorflow:Assets written to: /var/folders/ry/q793pzpj7j34b39xk_gqz14h0000gn/T/1/assets\n"
     ]
    },
    {
     "name": "stderr",
     "output_type": "stream",
     "text": [
      "INFO:tensorflow:Assets written to: /var/folders/ry/q793pzpj7j34b39xk_gqz14h0000gn/T/1/assets\n"
     ]
    },
    {
     "name": "stdout",
     "output_type": "stream",
     "text": [
      "\n",
      "Saved model:\n",
      "total 584\r\n",
      "drwxr-xr-x  2 minnie  staff      64 19 Apr 13:27 \u001b[1m\u001b[34massets\u001b[m\u001b[m\r\n",
      "-rw-r--r--  1 minnie  staff      58 19 Apr 13:27 fingerprint.pb\r\n",
      "-rw-r--r--  1 minnie  staff   23264 19 Apr 13:27 keras_metadata.pb\r\n",
      "-rw-r--r--  1 minnie  staff  269691 19 Apr 13:27 saved_model.pb\r\n",
      "drwxr-xr-x  4 minnie  staff     128 19 Apr 13:27 \u001b[1m\u001b[34mvariables\u001b[m\u001b[m\r\n"
     ]
    }
   ],
   "source": [
    "tf.keras.models.save_model(\n",
    "    model,\n",
    "    export_path,\n",
    "    overwrite=True,\n",
    "    include_optimizer=True,\n",
    "    save_format=None,\n",
    "    signatures=None,\n",
    "    options=None\n",
    ")\n",
    "\n",
    "print('\\nSaved model:')\n",
    "!ls -l {export_path}"
   ]
  },
  {
   "cell_type": "code",
   "execution_count": 109,
   "metadata": {},
   "outputs": [
    {
     "ename": "SyntaxError",
     "evalue": "invalid syntax (3227326506.py, line 1)",
     "output_type": "error",
     "traceback": [
      "\u001b[0;36m  Cell \u001b[0;32mIn[109], line 1\u001b[0;36m\u001b[0m\n\u001b[0;31m    saved_model_cli show --dir {export_path} --all\u001b[0m\n\u001b[0m                    ^\u001b[0m\n\u001b[0;31mSyntaxError\u001b[0m\u001b[0;31m:\u001b[0m invalid syntax\n"
     ]
    }
   ],
   "source": [
    "saved_model_cli show --dir {export_path} --all"
   ]
  },
  {
   "cell_type": "code",
   "execution_count": null,
   "metadata": {},
   "outputs": [],
   "source": []
  },
  {
   "cell_type": "code",
   "execution_count": 59,
   "metadata": {},
   "outputs": [],
   "source": [
    "!mkdir -p saved_model"
   ]
  },
  {
   "cell_type": "code",
   "execution_count": null,
   "metadata": {},
   "outputs": [],
   "source": []
  },
  {
   "cell_type": "code",
   "execution_count": 60,
   "metadata": {},
   "outputs": [
    {
     "name": "stdout",
     "output_type": "stream",
     "text": [
      "INFO:tensorflow:Assets written to: saved_model/ccfrauddetection/assets\n"
     ]
    },
    {
     "name": "stderr",
     "output_type": "stream",
     "text": [
      "INFO:tensorflow:Assets written to: saved_model/ccfrauddetection/assets\n"
     ]
    }
   ],
   "source": [
    "model.save('saved_model/ccfrauddetection')"
   ]
  },
  {
   "cell_type": "code",
   "execution_count": 67,
   "metadata": {},
   "outputs": [],
   "source": [
    "prediction_data = pd.read_csv('prediction_data.csv')"
   ]
  },
  {
   "cell_type": "code",
   "execution_count": 68,
   "metadata": {},
   "outputs": [
    {
     "name": "stdout",
     "output_type": "stream",
     "text": [
      "1/1 [==============================] - 0s 62ms/step\n"
     ]
    }
   ],
   "source": [
    "prediction = model.predict(prediction_data)"
   ]
  },
  {
   "cell_type": "code",
   "execution_count": 69,
   "metadata": {},
   "outputs": [
    {
     "data": {
      "text/plain": [
       "array([0.00105157], dtype=float32)"
      ]
     },
     "execution_count": 69,
     "metadata": {},
     "output_type": "execute_result"
    }
   ],
   "source": [
    "prediction[0]"
   ]
  },
  {
   "cell_type": "code",
   "execution_count": null,
   "metadata": {},
   "outputs": [],
   "source": []
  }
 ],
 "metadata": {
  "kernelspec": {
   "display_name": "Python 3 (ipykernel)",
   "language": "python",
   "name": "python3"
  },
  "language_info": {
   "codemirror_mode": {
    "name": "ipython",
    "version": 3
   },
   "file_extension": ".py",
   "mimetype": "text/x-python",
   "name": "python",
   "nbconvert_exporter": "python",
   "pygments_lexer": "ipython3",
   "version": "3.9.13"
  }
 },
 "nbformat": 4,
 "nbformat_minor": 2
}
