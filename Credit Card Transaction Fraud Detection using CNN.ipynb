{
 "cells": [
  {
   "cell_type": "markdown",
   "metadata": {},
   "source": [
    "## Credit Card Fraud Detection using CNN"
   ]
  },
  {
   "cell_type": "markdown",
   "metadata": {},
   "source": [
    "Watch Full Video Here: https://youtu.be/XFnLN84Fz24"
   ]
  },
  {
   "cell_type": "code",
   "execution_count": null,
   "metadata": {},
   "outputs": [],
   "source": [
    "#!pip install tensorflow-gpu==2.0.0-rc0\n",
    "# Keep your eyes for update: https://www.tensorflow.org/"
   ]
  },
  {
   "cell_type": "code",
   "execution_count": 32,
   "metadata": {},
   "outputs": [
    {
     "name": "stdout",
     "output_type": "stream",
     "text": [
      "2.14.0\n"
     ]
    }
   ],
   "source": [
    "import tensorflow as tf\n",
    "from tensorflow import keras\n",
    "from tensorflow.keras import Sequential\n",
    "from tensorflow.keras.layers import Flatten, Dense, Dropout, BatchNormalization\n",
    "from tensorflow.keras.layers import Conv1D, MaxPool1D\n",
    "from tensorflow.keras.optimizers.legacy import Adam\n",
    "print(tf.__version__)"
   ]
  },
  {
   "cell_type": "code",
   "execution_count": 33,
   "metadata": {},
   "outputs": [],
   "source": [
    "import pandas as pd\n",
    "import numpy as np\n",
    "import  seaborn as sns\n",
    "import matplotlib.pyplot as plt\n",
    "from sklearn.model_selection import train_test_split\n",
    "from sklearn.preprocessing import StandardScaler"
   ]
  },
  {
   "cell_type": "code",
   "execution_count": 34,
   "metadata": {},
   "outputs": [
    {
     "data": {
      "text/html": [
       "<div>\n",
       "<style scoped>\n",
       "    .dataframe tbody tr th:only-of-type {\n",
       "        vertical-align: middle;\n",
       "    }\n",
       "\n",
       "    .dataframe tbody tr th {\n",
       "        vertical-align: top;\n",
       "    }\n",
       "\n",
       "    .dataframe thead th {\n",
       "        text-align: right;\n",
       "    }\n",
       "</style>\n",
       "<table border=\"1\" class=\"dataframe\">\n",
       "  <thead>\n",
       "    <tr style=\"text-align: right;\">\n",
       "      <th></th>\n",
       "      <th>id</th>\n",
       "      <th>V1</th>\n",
       "      <th>V2</th>\n",
       "      <th>V3</th>\n",
       "      <th>V4</th>\n",
       "      <th>V5</th>\n",
       "      <th>V6</th>\n",
       "      <th>V7</th>\n",
       "      <th>V8</th>\n",
       "      <th>V9</th>\n",
       "      <th>...</th>\n",
       "      <th>V21</th>\n",
       "      <th>V22</th>\n",
       "      <th>V23</th>\n",
       "      <th>V24</th>\n",
       "      <th>V25</th>\n",
       "      <th>V26</th>\n",
       "      <th>V27</th>\n",
       "      <th>V28</th>\n",
       "      <th>Amount</th>\n",
       "      <th>Class</th>\n",
       "    </tr>\n",
       "  </thead>\n",
       "  <tbody>\n",
       "    <tr>\n",
       "      <th>0</th>\n",
       "      <td>0</td>\n",
       "      <td>-0.260648</td>\n",
       "      <td>-0.469648</td>\n",
       "      <td>2.496266</td>\n",
       "      <td>-0.083724</td>\n",
       "      <td>0.129681</td>\n",
       "      <td>0.732898</td>\n",
       "      <td>0.519014</td>\n",
       "      <td>-0.130006</td>\n",
       "      <td>0.727159</td>\n",
       "      <td>...</td>\n",
       "      <td>-0.110552</td>\n",
       "      <td>0.217606</td>\n",
       "      <td>-0.134794</td>\n",
       "      <td>0.165959</td>\n",
       "      <td>0.126280</td>\n",
       "      <td>-0.434824</td>\n",
       "      <td>-0.081230</td>\n",
       "      <td>-0.151045</td>\n",
       "      <td>17982.10</td>\n",
       "      <td>0</td>\n",
       "    </tr>\n",
       "    <tr>\n",
       "      <th>1</th>\n",
       "      <td>1</td>\n",
       "      <td>0.985100</td>\n",
       "      <td>-0.356045</td>\n",
       "      <td>0.558056</td>\n",
       "      <td>-0.429654</td>\n",
       "      <td>0.277140</td>\n",
       "      <td>0.428605</td>\n",
       "      <td>0.406466</td>\n",
       "      <td>-0.133118</td>\n",
       "      <td>0.347452</td>\n",
       "      <td>...</td>\n",
       "      <td>-0.194936</td>\n",
       "      <td>-0.605761</td>\n",
       "      <td>0.079469</td>\n",
       "      <td>-0.577395</td>\n",
       "      <td>0.190090</td>\n",
       "      <td>0.296503</td>\n",
       "      <td>-0.248052</td>\n",
       "      <td>-0.064512</td>\n",
       "      <td>6531.37</td>\n",
       "      <td>0</td>\n",
       "    </tr>\n",
       "    <tr>\n",
       "      <th>2</th>\n",
       "      <td>2</td>\n",
       "      <td>-0.260272</td>\n",
       "      <td>-0.949385</td>\n",
       "      <td>1.728538</td>\n",
       "      <td>-0.457986</td>\n",
       "      <td>0.074062</td>\n",
       "      <td>1.419481</td>\n",
       "      <td>0.743511</td>\n",
       "      <td>-0.095576</td>\n",
       "      <td>-0.261297</td>\n",
       "      <td>...</td>\n",
       "      <td>-0.005020</td>\n",
       "      <td>0.702906</td>\n",
       "      <td>0.945045</td>\n",
       "      <td>-1.154666</td>\n",
       "      <td>-0.605564</td>\n",
       "      <td>-0.312895</td>\n",
       "      <td>-0.300258</td>\n",
       "      <td>-0.244718</td>\n",
       "      <td>2513.54</td>\n",
       "      <td>0</td>\n",
       "    </tr>\n",
       "    <tr>\n",
       "      <th>3</th>\n",
       "      <td>3</td>\n",
       "      <td>-0.152152</td>\n",
       "      <td>-0.508959</td>\n",
       "      <td>1.746840</td>\n",
       "      <td>-1.090178</td>\n",
       "      <td>0.249486</td>\n",
       "      <td>1.143312</td>\n",
       "      <td>0.518269</td>\n",
       "      <td>-0.065130</td>\n",
       "      <td>-0.205698</td>\n",
       "      <td>...</td>\n",
       "      <td>-0.146927</td>\n",
       "      <td>-0.038212</td>\n",
       "      <td>-0.214048</td>\n",
       "      <td>-1.893131</td>\n",
       "      <td>1.003963</td>\n",
       "      <td>-0.515950</td>\n",
       "      <td>-0.165316</td>\n",
       "      <td>0.048424</td>\n",
       "      <td>5384.44</td>\n",
       "      <td>0</td>\n",
       "    </tr>\n",
       "    <tr>\n",
       "      <th>4</th>\n",
       "      <td>4</td>\n",
       "      <td>-0.206820</td>\n",
       "      <td>-0.165280</td>\n",
       "      <td>1.527053</td>\n",
       "      <td>-0.448293</td>\n",
       "      <td>0.106125</td>\n",
       "      <td>0.530549</td>\n",
       "      <td>0.658849</td>\n",
       "      <td>-0.212660</td>\n",
       "      <td>1.049921</td>\n",
       "      <td>...</td>\n",
       "      <td>-0.106984</td>\n",
       "      <td>0.729727</td>\n",
       "      <td>-0.161666</td>\n",
       "      <td>0.312561</td>\n",
       "      <td>-0.414116</td>\n",
       "      <td>1.071126</td>\n",
       "      <td>0.023712</td>\n",
       "      <td>0.419117</td>\n",
       "      <td>14278.97</td>\n",
       "      <td>0</td>\n",
       "    </tr>\n",
       "  </tbody>\n",
       "</table>\n",
       "<p>5 rows × 31 columns</p>\n",
       "</div>"
      ],
      "text/plain": [
       "   id        V1        V2        V3        V4        V5        V6        V7  \\\n",
       "0   0 -0.260648 -0.469648  2.496266 -0.083724  0.129681  0.732898  0.519014   \n",
       "1   1  0.985100 -0.356045  0.558056 -0.429654  0.277140  0.428605  0.406466   \n",
       "2   2 -0.260272 -0.949385  1.728538 -0.457986  0.074062  1.419481  0.743511   \n",
       "3   3 -0.152152 -0.508959  1.746840 -1.090178  0.249486  1.143312  0.518269   \n",
       "4   4 -0.206820 -0.165280  1.527053 -0.448293  0.106125  0.530549  0.658849   \n",
       "\n",
       "         V8        V9  ...       V21       V22       V23       V24       V25  \\\n",
       "0 -0.130006  0.727159  ... -0.110552  0.217606 -0.134794  0.165959  0.126280   \n",
       "1 -0.133118  0.347452  ... -0.194936 -0.605761  0.079469 -0.577395  0.190090   \n",
       "2 -0.095576 -0.261297  ... -0.005020  0.702906  0.945045 -1.154666 -0.605564   \n",
       "3 -0.065130 -0.205698  ... -0.146927 -0.038212 -0.214048 -1.893131  1.003963   \n",
       "4 -0.212660  1.049921  ... -0.106984  0.729727 -0.161666  0.312561 -0.414116   \n",
       "\n",
       "        V26       V27       V28    Amount  Class  \n",
       "0 -0.434824 -0.081230 -0.151045  17982.10      0  \n",
       "1  0.296503 -0.248052 -0.064512   6531.37      0  \n",
       "2 -0.312895 -0.300258 -0.244718   2513.54      0  \n",
       "3 -0.515950 -0.165316  0.048424   5384.44      0  \n",
       "4  1.071126  0.023712  0.419117  14278.97      0  \n",
       "\n",
       "[5 rows x 31 columns]"
      ]
     },
     "execution_count": 34,
     "metadata": {},
     "output_type": "execute_result"
    }
   ],
   "source": [
    "data = pd.read_csv('creditcard_2023.csv')\n",
    "data.head()"
   ]
  },
  {
   "cell_type": "code",
   "execution_count": 35,
   "metadata": {},
   "outputs": [
    {
     "data": {
      "text/plain": [
       "(568630, 31)"
      ]
     },
     "execution_count": 35,
     "metadata": {},
     "output_type": "execute_result"
    }
   ],
   "source": [
    "data.shape"
   ]
  },
  {
   "cell_type": "code",
   "execution_count": 36,
   "metadata": {},
   "outputs": [
    {
     "data": {
      "text/plain": [
       "id        0\n",
       "V1        0\n",
       "V2        0\n",
       "V3        0\n",
       "V4        0\n",
       "V5        0\n",
       "V6        0\n",
       "V7        0\n",
       "V8        0\n",
       "V9        0\n",
       "V10       0\n",
       "V11       0\n",
       "V12       0\n",
       "V13       0\n",
       "V14       0\n",
       "V15       0\n",
       "V16       0\n",
       "V17       0\n",
       "V18       0\n",
       "V19       0\n",
       "V20       0\n",
       "V21       0\n",
       "V22       0\n",
       "V23       0\n",
       "V24       0\n",
       "V25       0\n",
       "V26       0\n",
       "V27       0\n",
       "V28       0\n",
       "Amount    0\n",
       "Class     0\n",
       "dtype: int64"
      ]
     },
     "execution_count": 36,
     "metadata": {},
     "output_type": "execute_result"
    }
   ],
   "source": [
    "data.isnull().sum()"
   ]
  },
  {
   "cell_type": "code",
   "execution_count": 37,
   "metadata": {
    "scrolled": true
   },
   "outputs": [
    {
     "name": "stdout",
     "output_type": "stream",
     "text": [
      "<class 'pandas.core.frame.DataFrame'>\n",
      "RangeIndex: 568630 entries, 0 to 568629\n",
      "Data columns (total 31 columns):\n",
      " #   Column  Non-Null Count   Dtype  \n",
      "---  ------  --------------   -----  \n",
      " 0   id      568630 non-null  int64  \n",
      " 1   V1      568630 non-null  float64\n",
      " 2   V2      568630 non-null  float64\n",
      " 3   V3      568630 non-null  float64\n",
      " 4   V4      568630 non-null  float64\n",
      " 5   V5      568630 non-null  float64\n",
      " 6   V6      568630 non-null  float64\n",
      " 7   V7      568630 non-null  float64\n",
      " 8   V8      568630 non-null  float64\n",
      " 9   V9      568630 non-null  float64\n",
      " 10  V10     568630 non-null  float64\n",
      " 11  V11     568630 non-null  float64\n",
      " 12  V12     568630 non-null  float64\n",
      " 13  V13     568630 non-null  float64\n",
      " 14  V14     568630 non-null  float64\n",
      " 15  V15     568630 non-null  float64\n",
      " 16  V16     568630 non-null  float64\n",
      " 17  V17     568630 non-null  float64\n",
      " 18  V18     568630 non-null  float64\n",
      " 19  V19     568630 non-null  float64\n",
      " 20  V20     568630 non-null  float64\n",
      " 21  V21     568630 non-null  float64\n",
      " 22  V22     568630 non-null  float64\n",
      " 23  V23     568630 non-null  float64\n",
      " 24  V24     568630 non-null  float64\n",
      " 25  V25     568630 non-null  float64\n",
      " 26  V26     568630 non-null  float64\n",
      " 27  V27     568630 non-null  float64\n",
      " 28  V28     568630 non-null  float64\n",
      " 29  Amount  568630 non-null  float64\n",
      " 30  Class   568630 non-null  int64  \n",
      "dtypes: float64(29), int64(2)\n",
      "memory usage: 134.5 MB\n"
     ]
    }
   ],
   "source": [
    "data.info()"
   ]
  },
  {
   "cell_type": "code",
   "execution_count": 38,
   "metadata": {},
   "outputs": [
    {
     "data": {
      "text/plain": [
       "Class\n",
       "0    284315\n",
       "1    284315\n",
       "Name: count, dtype: int64"
      ]
     },
     "execution_count": 38,
     "metadata": {},
     "output_type": "execute_result"
    }
   ],
   "source": [
    "data['Class'].value_counts()"
   ]
  },
  {
   "cell_type": "markdown",
   "metadata": {},
   "source": [
    "### Balance Dataset "
   ]
  },
  {
   "cell_type": "code",
   "execution_count": 39,
   "metadata": {},
   "outputs": [],
   "source": [
    "non_fraud = data[data['Class']==0]\n",
    "fraud = data[data['Class']==1]"
   ]
  },
  {
   "cell_type": "code",
   "execution_count": 40,
   "metadata": {},
   "outputs": [
    {
     "data": {
      "text/plain": [
       "((284315, 31), (284315, 31))"
      ]
     },
     "execution_count": 40,
     "metadata": {},
     "output_type": "execute_result"
    }
   ],
   "source": [
    "non_fraud.shape, fraud.shape"
   ]
  },
  {
   "cell_type": "code",
   "execution_count": 41,
   "metadata": {},
   "outputs": [
    {
     "data": {
      "text/plain": [
       "(284315, 31)"
      ]
     },
     "execution_count": 41,
     "metadata": {},
     "output_type": "execute_result"
    }
   ],
   "source": [
    "non_fraud = non_fraud.sample(fraud.shape[0])\n",
    "non_fraud.shape"
   ]
  },
  {
   "cell_type": "code",
   "execution_count": 42,
   "metadata": {},
   "outputs": [
    {
     "data": {
      "text/html": [
       "<div>\n",
       "<style scoped>\n",
       "    .dataframe tbody tr th:only-of-type {\n",
       "        vertical-align: middle;\n",
       "    }\n",
       "\n",
       "    .dataframe tbody tr th {\n",
       "        vertical-align: top;\n",
       "    }\n",
       "\n",
       "    .dataframe thead th {\n",
       "        text-align: right;\n",
       "    }\n",
       "</style>\n",
       "<table border=\"1\" class=\"dataframe\">\n",
       "  <thead>\n",
       "    <tr style=\"text-align: right;\">\n",
       "      <th></th>\n",
       "      <th>id</th>\n",
       "      <th>V1</th>\n",
       "      <th>V2</th>\n",
       "      <th>V3</th>\n",
       "      <th>V4</th>\n",
       "      <th>V5</th>\n",
       "      <th>V6</th>\n",
       "      <th>V7</th>\n",
       "      <th>V8</th>\n",
       "      <th>V9</th>\n",
       "      <th>...</th>\n",
       "      <th>V21</th>\n",
       "      <th>V22</th>\n",
       "      <th>V23</th>\n",
       "      <th>V24</th>\n",
       "      <th>V25</th>\n",
       "      <th>V26</th>\n",
       "      <th>V27</th>\n",
       "      <th>V28</th>\n",
       "      <th>Amount</th>\n",
       "      <th>Class</th>\n",
       "    </tr>\n",
       "  </thead>\n",
       "  <tbody>\n",
       "    <tr>\n",
       "      <th>0</th>\n",
       "      <td>541</td>\n",
       "      <td>-0.478427</td>\n",
       "      <td>0.142165</td>\n",
       "      <td>-0.046838</td>\n",
       "      <td>0.683350</td>\n",
       "      <td>0.067820</td>\n",
       "      <td>-0.404898</td>\n",
       "      <td>-0.206496</td>\n",
       "      <td>0.184366</td>\n",
       "      <td>-0.762935</td>\n",
       "      <td>...</td>\n",
       "      <td>0.098977</td>\n",
       "      <td>-0.075191</td>\n",
       "      <td>-0.481489</td>\n",
       "      <td>0.678900</td>\n",
       "      <td>-0.011520</td>\n",
       "      <td>0.409021</td>\n",
       "      <td>0.075859</td>\n",
       "      <td>-0.447139</td>\n",
       "      <td>1534.53</td>\n",
       "      <td>1</td>\n",
       "    </tr>\n",
       "    <tr>\n",
       "      <th>1</th>\n",
       "      <td>623</td>\n",
       "      <td>-0.617111</td>\n",
       "      <td>-1.733888</td>\n",
       "      <td>1.150655</td>\n",
       "      <td>0.207829</td>\n",
       "      <td>0.903533</td>\n",
       "      <td>-0.171524</td>\n",
       "      <td>0.551679</td>\n",
       "      <td>-0.167744</td>\n",
       "      <td>0.338861</td>\n",
       "      <td>...</td>\n",
       "      <td>0.153856</td>\n",
       "      <td>0.369734</td>\n",
       "      <td>1.471004</td>\n",
       "      <td>-0.497633</td>\n",
       "      <td>0.377656</td>\n",
       "      <td>-0.328051</td>\n",
       "      <td>-0.512415</td>\n",
       "      <td>-0.013653</td>\n",
       "      <td>10554.68</td>\n",
       "      <td>1</td>\n",
       "    </tr>\n",
       "    <tr>\n",
       "      <th>2</th>\n",
       "      <td>4920</td>\n",
       "      <td>-0.476617</td>\n",
       "      <td>0.088942</td>\n",
       "      <td>0.326333</td>\n",
       "      <td>0.220370</td>\n",
       "      <td>-0.026730</td>\n",
       "      <td>0.432409</td>\n",
       "      <td>0.646165</td>\n",
       "      <td>-0.240646</td>\n",
       "      <td>0.356997</td>\n",
       "      <td>...</td>\n",
       "      <td>-0.223141</td>\n",
       "      <td>-0.851929</td>\n",
       "      <td>0.153117</td>\n",
       "      <td>-0.127032</td>\n",
       "      <td>-0.334872</td>\n",
       "      <td>-1.353308</td>\n",
       "      <td>-0.192302</td>\n",
       "      <td>-0.470796</td>\n",
       "      <td>2785.98</td>\n",
       "      <td>1</td>\n",
       "    </tr>\n",
       "    <tr>\n",
       "      <th>3</th>\n",
       "      <td>6108</td>\n",
       "      <td>-0.832953</td>\n",
       "      <td>-0.024254</td>\n",
       "      <td>-0.260967</td>\n",
       "      <td>0.323532</td>\n",
       "      <td>-0.117119</td>\n",
       "      <td>-0.589167</td>\n",
       "      <td>-0.390612</td>\n",
       "      <td>-0.207889</td>\n",
       "      <td>0.351702</td>\n",
       "      <td>...</td>\n",
       "      <td>0.120451</td>\n",
       "      <td>0.121804</td>\n",
       "      <td>-0.453630</td>\n",
       "      <td>-0.064071</td>\n",
       "      <td>0.331833</td>\n",
       "      <td>-1.671579</td>\n",
       "      <td>-1.060239</td>\n",
       "      <td>1.939783</td>\n",
       "      <td>15897.18</td>\n",
       "      <td>1</td>\n",
       "    </tr>\n",
       "    <tr>\n",
       "      <th>4</th>\n",
       "      <td>6329</td>\n",
       "      <td>1.020308</td>\n",
       "      <td>0.425645</td>\n",
       "      <td>-0.554113</td>\n",
       "      <td>0.868349</td>\n",
       "      <td>2.367343</td>\n",
       "      <td>-0.360087</td>\n",
       "      <td>1.185828</td>\n",
       "      <td>-0.261569</td>\n",
       "      <td>-0.159521</td>\n",
       "      <td>...</td>\n",
       "      <td>-0.258401</td>\n",
       "      <td>-0.661236</td>\n",
       "      <td>-0.663639</td>\n",
       "      <td>-2.536292</td>\n",
       "      <td>2.502489</td>\n",
       "      <td>1.195597</td>\n",
       "      <td>-0.249226</td>\n",
       "      <td>0.254373</td>\n",
       "      <td>3492.59</td>\n",
       "      <td>1</td>\n",
       "    </tr>\n",
       "    <tr>\n",
       "      <th>...</th>\n",
       "      <td>...</td>\n",
       "      <td>...</td>\n",
       "      <td>...</td>\n",
       "      <td>...</td>\n",
       "      <td>...</td>\n",
       "      <td>...</td>\n",
       "      <td>...</td>\n",
       "      <td>...</td>\n",
       "      <td>...</td>\n",
       "      <td>...</td>\n",
       "      <td>...</td>\n",
       "      <td>...</td>\n",
       "      <td>...</td>\n",
       "      <td>...</td>\n",
       "      <td>...</td>\n",
       "      <td>...</td>\n",
       "      <td>...</td>\n",
       "      <td>...</td>\n",
       "      <td>...</td>\n",
       "      <td>...</td>\n",
       "      <td>...</td>\n",
       "    </tr>\n",
       "    <tr>\n",
       "      <th>568625</th>\n",
       "      <td>134130</td>\n",
       "      <td>0.024238</td>\n",
       "      <td>-0.109282</td>\n",
       "      <td>1.399675</td>\n",
       "      <td>-0.581570</td>\n",
       "      <td>0.282125</td>\n",
       "      <td>0.054964</td>\n",
       "      <td>0.682111</td>\n",
       "      <td>-0.143597</td>\n",
       "      <td>0.249571</td>\n",
       "      <td>...</td>\n",
       "      <td>-0.188179</td>\n",
       "      <td>-0.494120</td>\n",
       "      <td>0.045192</td>\n",
       "      <td>0.743997</td>\n",
       "      <td>-0.516469</td>\n",
       "      <td>0.197360</td>\n",
       "      <td>0.075647</td>\n",
       "      <td>0.139388</td>\n",
       "      <td>8734.09</td>\n",
       "      <td>0</td>\n",
       "    </tr>\n",
       "    <tr>\n",
       "      <th>568626</th>\n",
       "      <td>273237</td>\n",
       "      <td>2.037352</td>\n",
       "      <td>-0.991223</td>\n",
       "      <td>0.054473</td>\n",
       "      <td>-1.567158</td>\n",
       "      <td>-0.093711</td>\n",
       "      <td>0.171862</td>\n",
       "      <td>0.126856</td>\n",
       "      <td>-0.190521</td>\n",
       "      <td>-0.092175</td>\n",
       "      <td>...</td>\n",
       "      <td>-0.179010</td>\n",
       "      <td>-0.163226</td>\n",
       "      <td>0.194935</td>\n",
       "      <td>0.932479</td>\n",
       "      <td>-0.307092</td>\n",
       "      <td>-0.408756</td>\n",
       "      <td>-0.243861</td>\n",
       "      <td>-0.207545</td>\n",
       "      <td>18792.21</td>\n",
       "      <td>0</td>\n",
       "    </tr>\n",
       "    <tr>\n",
       "      <th>568627</th>\n",
       "      <td>172547</td>\n",
       "      <td>1.807410</td>\n",
       "      <td>-0.864722</td>\n",
       "      <td>0.306110</td>\n",
       "      <td>-1.068073</td>\n",
       "      <td>-0.168473</td>\n",
       "      <td>0.114705</td>\n",
       "      <td>0.116249</td>\n",
       "      <td>-0.149969</td>\n",
       "      <td>0.475896</td>\n",
       "      <td>...</td>\n",
       "      <td>0.048911</td>\n",
       "      <td>1.025580</td>\n",
       "      <td>0.101752</td>\n",
       "      <td>0.227840</td>\n",
       "      <td>-0.442189</td>\n",
       "      <td>-0.250830</td>\n",
       "      <td>-0.239814</td>\n",
       "      <td>-0.232085</td>\n",
       "      <td>17409.78</td>\n",
       "      <td>0</td>\n",
       "    </tr>\n",
       "    <tr>\n",
       "      <th>568628</th>\n",
       "      <td>211580</td>\n",
       "      <td>0.048257</td>\n",
       "      <td>0.033553</td>\n",
       "      <td>0.258516</td>\n",
       "      <td>-0.990467</td>\n",
       "      <td>0.902024</td>\n",
       "      <td>-0.535638</td>\n",
       "      <td>1.047463</td>\n",
       "      <td>-0.222885</td>\n",
       "      <td>0.289413</td>\n",
       "      <td>...</td>\n",
       "      <td>-0.037862</td>\n",
       "      <td>0.495707</td>\n",
       "      <td>-0.523352</td>\n",
       "      <td>-0.555446</td>\n",
       "      <td>0.386354</td>\n",
       "      <td>-0.488800</td>\n",
       "      <td>-0.067971</td>\n",
       "      <td>0.386160</td>\n",
       "      <td>1123.14</td>\n",
       "      <td>0</td>\n",
       "    </tr>\n",
       "    <tr>\n",
       "      <th>568629</th>\n",
       "      <td>53922</td>\n",
       "      <td>1.152955</td>\n",
       "      <td>-0.696291</td>\n",
       "      <td>0.690421</td>\n",
       "      <td>-0.909526</td>\n",
       "      <td>-0.092630</td>\n",
       "      <td>0.186589</td>\n",
       "      <td>0.223603</td>\n",
       "      <td>-0.165254</td>\n",
       "      <td>0.365638</td>\n",
       "      <td>...</td>\n",
       "      <td>-0.151977</td>\n",
       "      <td>-0.348334</td>\n",
       "      <td>-0.058684</td>\n",
       "      <td>-0.194832</td>\n",
       "      <td>0.706254</td>\n",
       "      <td>-0.713904</td>\n",
       "      <td>-0.223843</td>\n",
       "      <td>-0.067944</td>\n",
       "      <td>9831.59</td>\n",
       "      <td>0</td>\n",
       "    </tr>\n",
       "  </tbody>\n",
       "</table>\n",
       "<p>568630 rows × 31 columns</p>\n",
       "</div>"
      ],
      "text/plain": [
       "            id        V1        V2        V3        V4        V5        V6  \\\n",
       "0          541 -0.478427  0.142165 -0.046838  0.683350  0.067820 -0.404898   \n",
       "1          623 -0.617111 -1.733888  1.150655  0.207829  0.903533 -0.171524   \n",
       "2         4920 -0.476617  0.088942  0.326333  0.220370 -0.026730  0.432409   \n",
       "3         6108 -0.832953 -0.024254 -0.260967  0.323532 -0.117119 -0.589167   \n",
       "4         6329  1.020308  0.425645 -0.554113  0.868349  2.367343 -0.360087   \n",
       "...        ...       ...       ...       ...       ...       ...       ...   \n",
       "568625  134130  0.024238 -0.109282  1.399675 -0.581570  0.282125  0.054964   \n",
       "568626  273237  2.037352 -0.991223  0.054473 -1.567158 -0.093711  0.171862   \n",
       "568627  172547  1.807410 -0.864722  0.306110 -1.068073 -0.168473  0.114705   \n",
       "568628  211580  0.048257  0.033553  0.258516 -0.990467  0.902024 -0.535638   \n",
       "568629   53922  1.152955 -0.696291  0.690421 -0.909526 -0.092630  0.186589   \n",
       "\n",
       "              V7        V8        V9  ...       V21       V22       V23  \\\n",
       "0      -0.206496  0.184366 -0.762935  ...  0.098977 -0.075191 -0.481489   \n",
       "1       0.551679 -0.167744  0.338861  ...  0.153856  0.369734  1.471004   \n",
       "2       0.646165 -0.240646  0.356997  ... -0.223141 -0.851929  0.153117   \n",
       "3      -0.390612 -0.207889  0.351702  ...  0.120451  0.121804 -0.453630   \n",
       "4       1.185828 -0.261569 -0.159521  ... -0.258401 -0.661236 -0.663639   \n",
       "...          ...       ...       ...  ...       ...       ...       ...   \n",
       "568625  0.682111 -0.143597  0.249571  ... -0.188179 -0.494120  0.045192   \n",
       "568626  0.126856 -0.190521 -0.092175  ... -0.179010 -0.163226  0.194935   \n",
       "568627  0.116249 -0.149969  0.475896  ...  0.048911  1.025580  0.101752   \n",
       "568628  1.047463 -0.222885  0.289413  ... -0.037862  0.495707 -0.523352   \n",
       "568629  0.223603 -0.165254  0.365638  ... -0.151977 -0.348334 -0.058684   \n",
       "\n",
       "             V24       V25       V26       V27       V28    Amount  Class  \n",
       "0       0.678900 -0.011520  0.409021  0.075859 -0.447139   1534.53      1  \n",
       "1      -0.497633  0.377656 -0.328051 -0.512415 -0.013653  10554.68      1  \n",
       "2      -0.127032 -0.334872 -1.353308 -0.192302 -0.470796   2785.98      1  \n",
       "3      -0.064071  0.331833 -1.671579 -1.060239  1.939783  15897.18      1  \n",
       "4      -2.536292  2.502489  1.195597 -0.249226  0.254373   3492.59      1  \n",
       "...          ...       ...       ...       ...       ...       ...    ...  \n",
       "568625  0.743997 -0.516469  0.197360  0.075647  0.139388   8734.09      0  \n",
       "568626  0.932479 -0.307092 -0.408756 -0.243861 -0.207545  18792.21      0  \n",
       "568627  0.227840 -0.442189 -0.250830 -0.239814 -0.232085  17409.78      0  \n",
       "568628 -0.555446  0.386354 -0.488800 -0.067971  0.386160   1123.14      0  \n",
       "568629 -0.194832  0.706254 -0.713904 -0.223843 -0.067944   9831.59      0  \n",
       "\n",
       "[568630 rows x 31 columns]"
      ]
     },
     "execution_count": 42,
     "metadata": {},
     "output_type": "execute_result"
    }
   ],
   "source": [
    "data= pd.concat([fraud, non_fraud], ignore_index=True)\n",
    "data"
   ]
  },
  {
   "cell_type": "code",
   "execution_count": 43,
   "metadata": {},
   "outputs": [
    {
     "data": {
      "text/plain": [
       "Class\n",
       "1    284315\n",
       "0    284315\n",
       "Name: count, dtype: int64"
      ]
     },
     "execution_count": 43,
     "metadata": {},
     "output_type": "execute_result"
    }
   ],
   "source": [
    "data['Class'].value_counts()"
   ]
  },
  {
   "cell_type": "code",
   "execution_count": 44,
   "metadata": {},
   "outputs": [],
   "source": [
    "X = data.drop('Class', axis = 1)\n",
    "y = data['Class']"
   ]
  },
  {
   "cell_type": "code",
   "execution_count": 45,
   "metadata": {},
   "outputs": [],
   "source": [
    "X_train, X_test, y_train, y_test = train_test_split(X, y, test_size = 0.2, random_state = 0, stratify = y)"
   ]
  },
  {
   "cell_type": "code",
   "execution_count": 46,
   "metadata": {},
   "outputs": [
    {
     "data": {
      "text/plain": [
       "((454904, 30), (113726, 30))"
      ]
     },
     "execution_count": 46,
     "metadata": {},
     "output_type": "execute_result"
    }
   ],
   "source": [
    "X_train.shape, X_test.shape"
   ]
  },
  {
   "cell_type": "code",
   "execution_count": 47,
   "metadata": {},
   "outputs": [],
   "source": [
    "scaler = StandardScaler()\n",
    "X_train = scaler.fit_transform(X_train)\n",
    "X_test = scaler.transform(X_test)"
   ]
  },
  {
   "cell_type": "code",
   "execution_count": 48,
   "metadata": {},
   "outputs": [],
   "source": [
    "y_train = y_train.to_numpy()\n",
    "y_test = y_test.to_numpy()"
   ]
  },
  {
   "cell_type": "code",
   "execution_count": 49,
   "metadata": {},
   "outputs": [
    {
     "data": {
      "text/plain": [
       "(454904, 30)"
      ]
     },
     "execution_count": 49,
     "metadata": {},
     "output_type": "execute_result"
    }
   ],
   "source": [
    "X_train.shape"
   ]
  },
  {
   "cell_type": "code",
   "execution_count": 50,
   "metadata": {},
   "outputs": [],
   "source": [
    "X_train = X_train.reshape(X_train.shape[0], X_train.shape[1], 1)\n",
    "X_test = X_test.reshape(X_test.shape[0], X_test.shape[1], 1)"
   ]
  },
  {
   "cell_type": "code",
   "execution_count": 51,
   "metadata": {},
   "outputs": [
    {
     "data": {
      "text/plain": [
       "((454904, 30, 1), (113726, 30, 1))"
      ]
     },
     "execution_count": 51,
     "metadata": {},
     "output_type": "execute_result"
    }
   ],
   "source": [
    "X_train.shape, X_test.shape"
   ]
  },
  {
   "cell_type": "markdown",
   "metadata": {},
   "source": [
    "### Build CNN "
   ]
  },
  {
   "cell_type": "code",
   "execution_count": 52,
   "metadata": {},
   "outputs": [],
   "source": [
    "epochs = 20\n",
    "model = Sequential()\n",
    "model.add(Conv1D(32, 2, activation='relu', input_shape = X_train[0].shape))\n",
    "model.add(BatchNormalization())\n",
    "model.add(Dropout(0.2))\n",
    "\n",
    "model.add(Conv1D(64, 2, activation='relu'))\n",
    "model.add(BatchNormalization())\n",
    "model.add(Dropout(0.5))\n",
    "\n",
    "model.add(Flatten())\n",
    "model.add(Dense(64, activation='relu'))\n",
    "model.add(Dropout(0.5))\n",
    "\n",
    "model.add(Dense(1, activation='sigmoid'))\n"
   ]
  },
  {
   "cell_type": "code",
   "execution_count": 53,
   "metadata": {},
   "outputs": [
    {
     "name": "stdout",
     "output_type": "stream",
     "text": [
      "Model: \"sequential_1\"\n",
      "_________________________________________________________________\n",
      " Layer (type)                Output Shape              Param #   \n",
      "=================================================================\n",
      " conv1d_2 (Conv1D)           (None, 29, 32)            96        \n",
      "                                                                 \n",
      " batch_normalization_2 (Bat  (None, 29, 32)            128       \n",
      " chNormalization)                                                \n",
      "                                                                 \n",
      " dropout_3 (Dropout)         (None, 29, 32)            0         \n",
      "                                                                 \n",
      " conv1d_3 (Conv1D)           (None, 28, 64)            4160      \n",
      "                                                                 \n",
      " batch_normalization_3 (Bat  (None, 28, 64)            256       \n",
      " chNormalization)                                                \n",
      "                                                                 \n",
      " dropout_4 (Dropout)         (None, 28, 64)            0         \n",
      "                                                                 \n",
      " flatten_1 (Flatten)         (None, 1792)              0         \n",
      "                                                                 \n",
      " dense_2 (Dense)             (None, 64)                114752    \n",
      "                                                                 \n",
      " dropout_5 (Dropout)         (None, 64)                0         \n",
      "                                                                 \n",
      " dense_3 (Dense)             (None, 1)                 65        \n",
      "                                                                 \n",
      "=================================================================\n",
      "Total params: 119457 (466.63 KB)\n",
      "Trainable params: 119265 (465.88 KB)\n",
      "Non-trainable params: 192 (768.00 Byte)\n",
      "_________________________________________________________________\n"
     ]
    }
   ],
   "source": [
    "model.summary()"
   ]
  },
  {
   "cell_type": "code",
   "execution_count": 54,
   "metadata": {},
   "outputs": [
    {
     "name": "stderr",
     "output_type": "stream",
     "text": [
      "/Users/minnie/Credit-Card-Fraud-Detection-using-CNN-in-TensorFlow-2.0/tensor/lib/python3.9/site-packages/keras/src/optimizers/legacy/adam.py:118: UserWarning: The `lr` argument is deprecated, use `learning_rate` instead.\n",
      "  super().__init__(name, **kwargs)\n"
     ]
    }
   ],
   "source": [
    "model.compile(optimizer=Adam(learning-rate=0.0001), loss = 'binary_crossentropy', metrics=['accuracy'])"
   ]
  },
  {
   "cell_type": "code",
   "execution_count": 55,
   "metadata": {},
   "outputs": [
    {
     "name": "stdout",
     "output_type": "stream",
     "text": [
      "Epoch 1/20\n",
      "14216/14216 [==============================] - 48s 3ms/step - loss: 0.0230 - accuracy: 0.9924 - val_loss: 0.0033 - val_accuracy: 0.9993\n",
      "Epoch 2/20\n",
      "14216/14216 [==============================] - 48s 3ms/step - loss: 0.0060 - accuracy: 0.9983 - val_loss: 0.0027 - val_accuracy: 0.9995\n",
      "Epoch 3/20\n",
      "14216/14216 [==============================] - 43s 3ms/step - loss: 0.0050 - accuracy: 0.9987 - val_loss: 0.0022 - val_accuracy: 0.9995\n",
      "Epoch 4/20\n",
      "14216/14216 [==============================] - 43s 3ms/step - loss: 0.0041 - accuracy: 0.9989 - val_loss: 0.0022 - val_accuracy: 0.9994\n",
      "Epoch 5/20\n",
      "14216/14216 [==============================] - 43s 3ms/step - loss: 0.0039 - accuracy: 0.9990 - val_loss: 0.0021 - val_accuracy: 0.9995\n",
      "Epoch 6/20\n",
      "14216/14216 [==============================] - 43s 3ms/step - loss: 0.0036 - accuracy: 0.9991 - val_loss: 0.0019 - val_accuracy: 0.9996\n",
      "Epoch 7/20\n",
      "14216/14216 [==============================] - 42s 3ms/step - loss: 0.0031 - accuracy: 0.9993 - val_loss: 0.0019 - val_accuracy: 0.9996\n",
      "Epoch 8/20\n",
      "14216/14216 [==============================] - 43s 3ms/step - loss: 0.0032 - accuracy: 0.9992 - val_loss: 0.0019 - val_accuracy: 0.9995\n",
      "Epoch 9/20\n",
      "14216/14216 [==============================] - 43s 3ms/step - loss: 0.0030 - accuracy: 0.9993 - val_loss: 0.0018 - val_accuracy: 0.9995\n",
      "Epoch 10/20\n",
      "14216/14216 [==============================] - 43s 3ms/step - loss: 0.0027 - accuracy: 0.9994 - val_loss: 0.0018 - val_accuracy: 0.9996\n",
      "Epoch 11/20\n",
      "14216/14216 [==============================] - 43s 3ms/step - loss: 0.0029 - accuracy: 0.9993 - val_loss: 0.0016 - val_accuracy: 0.9997\n",
      "Epoch 12/20\n",
      "14216/14216 [==============================] - 43s 3ms/step - loss: 0.0025 - accuracy: 0.9994 - val_loss: 0.0016 - val_accuracy: 0.9997\n",
      "Epoch 13/20\n",
      "14216/14216 [==============================] - 43s 3ms/step - loss: 0.0026 - accuracy: 0.9994 - val_loss: 0.0018 - val_accuracy: 0.9996\n",
      "Epoch 14/20\n",
      "14216/14216 [==============================] - 43s 3ms/step - loss: 0.0023 - accuracy: 0.9995 - val_loss: 0.0016 - val_accuracy: 0.9997\n",
      "Epoch 15/20\n",
      "14216/14216 [==============================] - 43s 3ms/step - loss: 0.0025 - accuracy: 0.9994 - val_loss: 0.0017 - val_accuracy: 0.9997\n",
      "Epoch 16/20\n",
      "14216/14216 [==============================] - 43s 3ms/step - loss: 0.0024 - accuracy: 0.9995 - val_loss: 0.0016 - val_accuracy: 0.9997\n",
      "Epoch 17/20\n",
      "14216/14216 [==============================] - 42s 3ms/step - loss: 0.0025 - accuracy: 0.9994 - val_loss: 0.0016 - val_accuracy: 0.9997\n",
      "Epoch 18/20\n",
      "14216/14216 [==============================] - 42s 3ms/step - loss: 0.0024 - accuracy: 0.9995 - val_loss: 0.0015 - val_accuracy: 0.9997\n",
      "Epoch 19/20\n",
      "14216/14216 [==============================] - 47s 3ms/step - loss: 0.0024 - accuracy: 0.9995 - val_loss: 0.0016 - val_accuracy: 0.9997\n",
      "Epoch 20/20\n",
      "14216/14216 [==============================] - 48s 3ms/step - loss: 0.0023 - accuracy: 0.9995 - val_loss: 0.0017 - val_accuracy: 0.9996\n"
     ]
    }
   ],
   "source": [
    "history = model.fit(X_train, y_train, epochs=epochs, validation_data=(X_test, y_test), verbose=1)"
   ]
  },
  {
   "cell_type": "code",
   "execution_count": 56,
   "metadata": {},
   "outputs": [],
   "source": [
    "def plot_learningCurve(history, epoch):\n",
    "  # Plot training & validation accuracy values\n",
    "  epoch_range = range(1, epoch+1)\n",
    "  plt.plot(epoch_range, history.history['accuracy'])\n",
    "  plt.plot(epoch_range, history.history['val_accuracy'])\n",
    "  plt.title('Model accuracy')\n",
    "  plt.ylabel('Accuracy')\n",
    "  plt.xlabel('Epoch')\n",
    "  plt.legend(['Train', 'Val'], loc='upper left')\n",
    "  plt.show()\n",
    "\n",
    "  # Plot training & validation loss values\n",
    "  plt.plot(epoch_range, history.history['loss'])\n",
    "  plt.plot(epoch_range, history.history['val_loss'])\n",
    "  plt.title('Model loss')\n",
    "  plt.ylabel('Loss')\n",
    "  plt.xlabel('Epoch')\n",
    "  plt.legend(['Train', 'Val'], loc='upper left')\n",
    "  plt.show()"
   ]
  },
  {
   "cell_type": "code",
   "execution_count": 57,
   "metadata": {},
   "outputs": [
    {
     "data": {
      "image/png": "[encoded data removed]",
      "text/plain": [
       "<Figure size 640x480 with 1 Axes>"
      ]
     },
     "metadata": {},
     "output_type": "display_data"
    },
    {
     "data": {
      "image/png": "[encoded data removed]",
      "text/plain": [
       "<Figure size 640x480 with 1 Axes>"
      ]
     },
     "metadata": {},
     "output_type": "display_data"
    }
   ],
   "source": [
    "plot_learningCurve(history, epochs)"
   ]
  },
  {
   "cell_type": "code",
   "execution_count": null,
   "metadata": {},
   "outputs": [],
   "source": []
  },
  {
   "cell_type": "markdown",
   "metadata": {},
   "source": [
    "### Adding MaxPool "
   ]
  },
  {
   "cell_type": "code",
   "execution_count": 58,
   "metadata": {},
   "outputs": [
    {
     "name": "stdout",
     "output_type": "stream",
     "text": [
      "Epoch 1/50\n",
      "14216/14216 [==============================] - 31s 2ms/step - loss: 0.0854 - accuracy: 0.9706 - val_loss: 0.0112 - val_accuracy: 0.9969\n",
      "Epoch 2/50\n",
      "14216/14216 [==============================] - 31s 2ms/step - loss: 0.0247 - accuracy: 0.9923 - val_loss: 0.0078 - val_accuracy: 0.9982\n",
      "Epoch 3/50\n",
      "14216/14216 [==============================] - 33s 2ms/step - loss: 0.0186 - accuracy: 0.9944 - val_loss: 0.0059 - val_accuracy: 0.9986\n",
      "Epoch 4/50\n",
      "14216/14216 [==============================] - 33s 2ms/step - loss: 0.0151 - accuracy: 0.9956 - val_loss: 0.0055 - val_accuracy: 0.9987\n",
      "Epoch 5/50\n",
      "14216/14216 [==============================] - 33s 2ms/step - loss: 0.0144 - accuracy: 0.9958 - val_loss: 0.0050 - val_accuracy: 0.9989\n",
      "Epoch 6/50\n",
      "14216/14216 [==============================] - 33s 2ms/step - loss: 0.0133 - accuracy: 0.9962 - val_loss: 0.0044 - val_accuracy: 0.9990\n",
      "Epoch 7/50\n",
      "14216/14216 [==============================] - 33s 2ms/step - loss: 0.0123 - accuracy: 0.9966 - val_loss: 0.0041 - val_accuracy: 0.9991\n",
      "Epoch 8/50\n",
      "14216/14216 [==============================] - 33s 2ms/step - loss: 0.0112 - accuracy: 0.9968 - val_loss: 0.0039 - val_accuracy: 0.9992\n",
      "Epoch 9/50\n",
      "14216/14216 [==============================] - 33s 2ms/step - loss: 0.0107 - accuracy: 0.9970 - val_loss: 0.0035 - val_accuracy: 0.9993\n",
      "Epoch 10/50\n",
      "14216/14216 [==============================] - 33s 2ms/step - loss: 0.0107 - accuracy: 0.9971 - val_loss: 0.0036 - val_accuracy: 0.9993\n",
      "Epoch 11/50\n",
      "14216/14216 [==============================] - 33s 2ms/step - loss: 0.0096 - accuracy: 0.9973 - val_loss: 0.0037 - val_accuracy: 0.9993\n",
      "Epoch 12/50\n",
      "14216/14216 [==============================] - 32s 2ms/step - loss: 0.0094 - accuracy: 0.9974 - val_loss: 0.0032 - val_accuracy: 0.9993\n",
      "Epoch 13/50\n",
      "14216/14216 [==============================] - 33s 2ms/step - loss: 0.0093 - accuracy: 0.9975 - val_loss: 0.0032 - val_accuracy: 0.9994\n",
      "Epoch 14/50\n",
      "14216/14216 [==============================] - 33s 2ms/step - loss: 0.0087 - accuracy: 0.9976 - val_loss: 0.0031 - val_accuracy: 0.9994\n",
      "Epoch 15/50\n",
      "14216/14216 [==============================] - 33s 2ms/step - loss: 0.0092 - accuracy: 0.9975 - val_loss: 0.0030 - val_accuracy: 0.9994\n",
      "Epoch 16/50\n",
      "14216/14216 [==============================] - 33s 2ms/step - loss: 0.0084 - accuracy: 0.9977 - val_loss: 0.0032 - val_accuracy: 0.9994\n",
      "Epoch 17/50\n",
      "14216/14216 [==============================] - 33s 2ms/step - loss: 0.0086 - accuracy: 0.9977 - val_loss: 0.0030 - val_accuracy: 0.9994\n",
      "Epoch 18/50\n",
      "14216/14216 [==============================] - 32s 2ms/step - loss: 0.0086 - accuracy: 0.9976 - val_loss: 0.0028 - val_accuracy: 0.9995\n",
      "Epoch 19/50\n",
      "14216/14216 [==============================] - 33s 2ms/step - loss: 0.0085 - accuracy: 0.9978 - val_loss: 0.0029 - val_accuracy: 0.9995\n",
      "Epoch 20/50\n",
      "14216/14216 [==============================] - 33s 2ms/step - loss: 0.0080 - accuracy: 0.9979 - val_loss: 0.0028 - val_accuracy: 0.9995\n",
      "Epoch 21/50\n",
      "14216/14216 [==============================] - 33s 2ms/step - loss: 0.0077 - accuracy: 0.9979 - val_loss: 0.0029 - val_accuracy: 0.9995\n",
      "Epoch 22/50\n",
      "14216/14216 [==============================] - 33s 2ms/step - loss: 0.0078 - accuracy: 0.9978 - val_loss: 0.0029 - val_accuracy: 0.9994\n",
      "Epoch 23/50\n",
      "14216/14216 [==============================] - 33s 2ms/step - loss: 0.0076 - accuracy: 0.9979 - val_loss: 0.0028 - val_accuracy: 0.9995\n",
      "Epoch 24/50\n",
      "14216/14216 [==============================] - 33s 2ms/step - loss: 0.0078 - accuracy: 0.9980 - val_loss: 0.0027 - val_accuracy: 0.9995\n",
      "Epoch 25/50\n",
      "14216/14216 [==============================] - 33s 2ms/step - loss: 0.0077 - accuracy: 0.9980 - val_loss: 0.0025 - val_accuracy: 0.9995\n",
      "Epoch 26/50\n",
      "14216/14216 [==============================] - 33s 2ms/step - loss: 0.0075 - accuracy: 0.9981 - val_loss: 0.0026 - val_accuracy: 0.9995\n",
      "Epoch 27/50\n",
      "14216/14216 [==============================] - 33s 2ms/step - loss: 0.0075 - accuracy: 0.9980 - val_loss: 0.0027 - val_accuracy: 0.9995\n",
      "Epoch 28/50\n",
      "14216/14216 [==============================] - 33s 2ms/step - loss: 0.0073 - accuracy: 0.9980 - val_loss: 0.0026 - val_accuracy: 0.9995\n",
      "Epoch 29/50\n",
      "14216/14216 [==============================] - 33s 2ms/step - loss: 0.0073 - accuracy: 0.9981 - val_loss: 0.0025 - val_accuracy: 0.9995\n",
      "Epoch 30/50\n",
      "14216/14216 [==============================] - 32s 2ms/step - loss: 0.0072 - accuracy: 0.9982 - val_loss: 0.0026 - val_accuracy: 0.9995\n",
      "Epoch 31/50\n",
      "14216/14216 [==============================] - 32s 2ms/step - loss: 0.0070 - accuracy: 0.9981 - val_loss: 0.0025 - val_accuracy: 0.9995\n",
      "Epoch 32/50\n",
      "14216/14216 [==============================] - 33s 2ms/step - loss: 0.0068 - accuracy: 0.9982 - val_loss: 0.0025 - val_accuracy: 0.9995\n",
      "Epoch 33/50\n",
      "14216/14216 [==============================] - 33s 2ms/step - loss: 0.0068 - accuracy: 0.9982 - val_loss: 0.0025 - val_accuracy: 0.9995\n",
      "Epoch 34/50\n",
      "14216/14216 [==============================] - 33s 2ms/step - loss: 0.0068 - accuracy: 0.9982 - val_loss: 0.0027 - val_accuracy: 0.9995\n",
      "Epoch 35/50\n",
      "14216/14216 [==============================] - 35s 2ms/step - loss: 0.0069 - accuracy: 0.9982 - val_loss: 0.0026 - val_accuracy: 0.9995\n",
      "Epoch 36/50\n",
      "14216/14216 [==============================] - 35s 2ms/step - loss: 0.0068 - accuracy: 0.9982 - val_loss: 0.0024 - val_accuracy: 0.9995\n",
      "Epoch 37/50\n",
      "14216/14216 [==============================] - 32s 2ms/step - loss: 0.0067 - accuracy: 0.9981 - val_loss: 0.0024 - val_accuracy: 0.9996\n",
      "Epoch 38/50\n",
      "14216/14216 [==============================] - 33s 2ms/step - loss: 0.0067 - accuracy: 0.9982 - val_loss: 0.0028 - val_accuracy: 0.9995\n",
      "Epoch 39/50\n",
      "14216/14216 [==============================] - 33s 2ms/step - loss: 0.0065 - accuracy: 0.9983 - val_loss: 0.0025 - val_accuracy: 0.9995\n",
      "Epoch 40/50\n",
      "14216/14216 [==============================] - 32s 2ms/step - loss: 0.0067 - accuracy: 0.9983 - val_loss: 0.0024 - val_accuracy: 0.9995\n",
      "Epoch 41/50\n",
      "14216/14216 [==============================] - 32s 2ms/step - loss: 0.0069 - accuracy: 0.9982 - val_loss: 0.0024 - val_accuracy: 0.9996\n",
      "Epoch 42/50\n",
      "14216/14216 [==============================] - 32s 2ms/step - loss: 0.0064 - accuracy: 0.9983 - val_loss: 0.0022 - val_accuracy: 0.9996\n",
      "Epoch 43/50\n",
      "14216/14216 [==============================] - 33s 2ms/step - loss: 0.0066 - accuracy: 0.9983 - val_loss: 0.0024 - val_accuracy: 0.9996\n",
      "Epoch 44/50\n",
      "14216/14216 [==============================] - 32s 2ms/step - loss: 0.0067 - accuracy: 0.9983 - val_loss: 0.0025 - val_accuracy: 0.9995\n",
      "Epoch 45/50\n",
      "14216/14216 [==============================] - 33s 2ms/step - loss: 0.0063 - accuracy: 0.9985 - val_loss: 0.0024 - val_accuracy: 0.9995\n",
      "Epoch 46/50\n",
      "14216/14216 [==============================] - 33s 2ms/step - loss: 0.0067 - accuracy: 0.9983 - val_loss: 0.0024 - val_accuracy: 0.9996\n",
      "Epoch 47/50\n",
      "14216/14216 [==============================] - 33s 2ms/step - loss: 0.0062 - accuracy: 0.9984 - val_loss: 0.0024 - val_accuracy: 0.9996\n",
      "Epoch 48/50\n",
      "14216/14216 [==============================] - 33s 2ms/step - loss: 0.0063 - accuracy: 0.9984 - val_loss: 0.0023 - val_accuracy: 0.9996\n",
      "Epoch 49/50\n",
      "14216/14216 [==============================] - 33s 2ms/step - loss: 0.0062 - accuracy: 0.9984 - val_loss: 0.0024 - val_accuracy: 0.9996\n",
      "Epoch 50/50\n",
      "14216/14216 [==============================] - 33s 2ms/step - loss: 0.0066 - accuracy: 0.9983 - val_loss: 0.0024 - val_accuracy: 0.9996\n"
     ]
    },
    {
     "data": {
      "image/png": "[encoded data removed]",
      "text/plain": [
       "<Figure size 640x480 with 1 Axes>"
      ]
     },
     "metadata": {},
     "output_type": "display_data"
    },
    {
     "data": {
      "image/png": "[encoded data removed]",
      "text/plain": [
       "<Figure size 640x480 with 1 Axes>"
      ]
     },
     "metadata": {},
     "output_type": "display_data"
    }
   ],
   "source": [
    "epochs = 50\n",
    "model = Sequential()\n",
    "model.add(Conv1D(32, 2, activation='relu', input_shape = X_train[0].shape))\n",
    "model.add(BatchNormalization())\n",
    "model.add(MaxPool1D(2))\n",
    "model.add(Dropout(0.2))\n",
    "\n",
    "model.add(Conv1D(64, 2, activation='relu'))\n",
    "model.add(BatchNormalization())\n",
    "model.add(MaxPool1D(2))\n",
    "model.add(Dropout(0.5))\n",
    "\n",
    "model.add(Flatten())\n",
    "model.add(Dense(64, activation='relu'))\n",
    "model.add(Dropout(0.5))\n",
    "\n",
    "model.add(Dense(1, activation='sigmoid'))\n",
    "\n",
    "model.compile(optimizer=Adam(lr=0.0001), loss = 'binary_crossentropy', metrics=['accuracy'])\n",
    "history = model.fit(X_train, y_train, epochs=epochs, validation_data=(X_test, y_test), verbose=1)\n",
    "plot_learningCurve(history, epochs)"
   ]
  },
  {
   "cell_type": "code",
   "execution_count": 59,
   "metadata": {},
   "outputs": [],
   "source": [
    "!mkdir -p saved_model"
   ]
  },
  {
   "cell_type": "code",
   "execution_count": 60,
   "metadata": {},
   "outputs": [
    {
     "name": "stdout",
     "output_type": "stream",
     "text": [
      "INFO:tensorflow:Assets written to: saved_model/ccfrauddetection/assets\n"
     ]
    },
    {
     "name": "stderr",
     "output_type": "stream",
     "text": [
      "INFO:tensorflow:Assets written to: saved_model/ccfrauddetection/assets\n"
     ]
    }
   ],
   "source": [
    "model.save('saved_model/ccfrauddetection')"
   ]
  },
  {
   "cell_type": "code",
   "execution_count": null,
   "metadata": {},
   "outputs": [],
   "source": []
  }
 ],
 "metadata": {
  "kernelspec": {
   "display_name": "Python 3 (ipykernel)",
   "language": "python",
   "name": "python3"
  },
  "language_info": {
   "codemirror_mode": {
    "name": "ipython",
    "version": 3
   },
   "file_extension": ".py",
   "mimetype": "text/x-python",
   "name": "python",
   "nbconvert_exporter": "python",
   "pygments_lexer": "ipython3",
   "version": "3.9.13"
  }
 },
 "nbformat": 4,
 "nbformat_minor": 2
}
